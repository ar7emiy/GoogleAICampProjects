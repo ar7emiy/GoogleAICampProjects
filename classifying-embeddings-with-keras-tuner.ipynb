{
 "cells": [
  {
   "cell_type": "markdown",
   "id": "b6c9fef6",
   "metadata": {
    "id": "v0WeWbFNkUSz",
    "papermill": {
     "duration": 0.007865,
     "end_time": "2025-04-02T02:22:10.837179",
     "exception": false,
     "start_time": "2025-04-02T02:22:10.829314",
     "status": "completed"
    },
    "tags": []
   },
   "source": [
    "##### Copyright 2025 Google LLC."
   ]
  },
  {
   "cell_type": "code",
   "execution_count": 1,
   "id": "7ef00029",
   "metadata": {
    "_kg_hide-input": true,
    "cellView": "form",
    "execution": {
     "iopub.execute_input": "2025-04-02T02:22:10.853336Z",
     "iopub.status.busy": "2025-04-02T02:22:10.853080Z",
     "iopub.status.idle": "2025-04-02T02:22:10.857332Z",
     "shell.execute_reply": "2025-04-02T02:22:10.856555Z"
    },
    "id": "Aqwsgz9lkUst",
    "papermill": {
     "duration": 0.013539,
     "end_time": "2025-04-02T02:22:10.858903",
     "exception": false,
     "start_time": "2025-04-02T02:22:10.845364",
     "status": "completed"
    },
    "tags": []
   },
   "outputs": [],
   "source": [
    "# @title Licensed under the Apache License, Version 2.0 (the \"License\");\n",
    "# you may not use this file except in compliance with the License.\n",
    "# You may obtain a copy of the License at\n",
    "#\n",
    "# https://www.apache.org/licenses/LICENSE-2.0\n",
    "#\n",
    "# Unless required by applicable law or agreed to in writing, software\n",
    "# distributed under the License is distributed on an \"AS IS\" BASIS,\n",
    "# WITHOUT WARRANTIES OR CONDITIONS OF ANY KIND, either express or implied.\n",
    "# See the License for the specific language governing permissions and\n",
    "# limitations under the License."
   ]
  },
  {
   "cell_type": "markdown",
   "id": "8f2542ca",
   "metadata": {
    "id": "bhT1u-Pof10V",
    "papermill": {
     "duration": 0.006758,
     "end_time": "2025-04-02T02:22:10.872775",
     "exception": false,
     "start_time": "2025-04-02T02:22:10.866017",
     "status": "completed"
    },
    "tags": []
   },
   "source": [
    "# Day 2 - Classifying embeddings with Keras and the Gemini API\n",
    "\n",
    "## Overview\n",
    "\n",
    "Welcome back to the Kaggle 5-day Generative AI course. In this notebook, you'll learn to use the embeddings produced by the Gemini API to train a model that can classify newsgroup posts into the categories (the newsgroup itself) from the post contents.\n",
    "\n",
    "This technique uses the Gemini API's embeddings as input, avoiding the need to train on text input directly, and as a result it is able to perform quite well using relatively few examples compared to training a text model from scratch.\n",
    "\n",
    "## ADDITIONAL HYPERPARAMETER TUNING! BONUS ON BONUS.\n",
    "I didn't know there was such an interesting application of deepNN and semantic embeddings, so I tuned the model all the way at the bottom using a Keras random search tuner. Shout out to Dr. Toriko of DePaul U. from Deep NN class last year. (used an accelator to run this)\n",
    "\n",
    "**Results summary**:\n",
    "When working with high-quality embeddings like those from Gemini, simple neural architectures often perform surprisingly well because the embeddings already encode rich semantic information. The optimal model's use of just 192 units rather than the full 768-dimensional embedding creates an information bottleneck that forces the network to extract only the most relevant features for classification, eliminating the need for regularization techniques like dropout or batch normalization."
   ]
  },
  {
   "cell_type": "code",
   "execution_count": 2,
   "id": "c83a21ea",
   "metadata": {
    "execution": {
     "iopub.execute_input": "2025-04-02T02:22:10.887560Z",
     "iopub.status.busy": "2025-04-02T02:22:10.887320Z",
     "iopub.status.idle": "2025-04-02T02:22:26.166242Z",
     "shell.execute_reply": "2025-04-02T02:22:26.165159Z"
    },
    "id": "FXq0ygI3BCdQ",
    "papermill": {
     "duration": 15.288502,
     "end_time": "2025-04-02T02:22:26.168287",
     "exception": false,
     "start_time": "2025-04-02T02:22:10.879785",
     "status": "completed"
    },
    "tags": []
   },
   "outputs": [],
   "source": [
    "!pip uninstall -qqy jupyterlab kfp 2>/dev/null  # Remove unused conflicting packages\n",
    "!pip install -U -q \"google-genai==1.7.0\""
   ]
  },
  {
   "cell_type": "code",
   "execution_count": 3,
   "id": "469f69d6",
   "metadata": {
    "execution": {
     "iopub.execute_input": "2025-04-02T02:22:26.184019Z",
     "iopub.status.busy": "2025-04-02T02:22:26.183716Z",
     "iopub.status.idle": "2025-04-02T02:22:27.191933Z",
     "shell.execute_reply": "2025-04-02T02:22:27.191161Z"
    },
    "id": "XiJjB2vWCQJP",
    "papermill": {
     "duration": 1.018123,
     "end_time": "2025-04-02T02:22:27.193821",
     "exception": false,
     "start_time": "2025-04-02T02:22:26.175698",
     "status": "completed"
    },
    "tags": []
   },
   "outputs": [
    {
     "data": {
      "text/plain": [
       "'1.7.0'"
      ]
     },
     "execution_count": 3,
     "metadata": {},
     "output_type": "execute_result"
    }
   ],
   "source": [
    "from google import genai\n",
    "from google.genai import types\n",
    "\n",
    "genai.__version__"
   ]
  },
  {
   "cell_type": "code",
   "execution_count": 4,
   "id": "74d5c3ad",
   "metadata": {
    "execution": {
     "iopub.execute_input": "2025-04-02T02:22:27.210028Z",
     "iopub.status.busy": "2025-04-02T02:22:27.209645Z",
     "iopub.status.idle": "2025-04-02T02:22:27.494637Z",
     "shell.execute_reply": "2025-04-02T02:22:27.494033Z"
    },
    "id": "tayrk_A2lZ7A",
    "papermill": {
     "duration": 0.2948,
     "end_time": "2025-04-02T02:22:27.496440",
     "exception": false,
     "start_time": "2025-04-02T02:22:27.201640",
     "status": "completed"
    },
    "tags": []
   },
   "outputs": [],
   "source": [
    "from kaggle_secrets import UserSecretsClient\n",
    "\n",
    "GOOGLE_API_KEY = UserSecretsClient().get_secret(\"GOOGLE_API_KEY\")\n",
    "\n",
    "client = genai.Client(api_key=GOOGLE_API_KEY)"
   ]
  },
  {
   "cell_type": "markdown",
   "id": "7ad221fb",
   "metadata": {
    "id": "C5B9sWq0hNEV",
    "papermill": {
     "duration": 0.007699,
     "end_time": "2025-04-02T02:22:27.511442",
     "exception": false,
     "start_time": "2025-04-02T02:22:27.503743",
     "status": "completed"
    },
    "tags": []
   },
   "source": [
    "## Dataset\n",
    "\n",
    "The [20 Newsgroups Text Dataset](https://scikit-learn.org/0.19/datasets/twenty_newsgroups.html) contains 18,000 newsgroups posts on 20 topics divided into training and test sets. The split between the training and test datasets are based on messages posted before and after a specific date. For this tutorial, you will use sampled subsets of the training and test sets, and perform some processing using Pandas."
   ]
  },
  {
   "cell_type": "code",
   "execution_count": 5,
   "id": "a95a397e",
   "metadata": {
    "execution": {
     "iopub.execute_input": "2025-04-02T02:22:27.528293Z",
     "iopub.status.busy": "2025-04-02T02:22:27.527485Z",
     "iopub.status.idle": "2025-04-02T02:22:38.046195Z",
     "shell.execute_reply": "2025-04-02T02:22:38.045253Z"
    },
    "id": "jDoKis4om-Ea",
    "papermill": {
     "duration": 10.528802,
     "end_time": "2025-04-02T02:22:38.048010",
     "exception": false,
     "start_time": "2025-04-02T02:22:27.519208",
     "status": "completed"
    },
    "tags": []
   },
   "outputs": [
    {
     "data": {
      "text/plain": [
       "['alt.atheism',\n",
       " 'comp.graphics',\n",
       " 'comp.os.ms-windows.misc',\n",
       " 'comp.sys.ibm.pc.hardware',\n",
       " 'comp.sys.mac.hardware',\n",
       " 'comp.windows.x',\n",
       " 'misc.forsale',\n",
       " 'rec.autos',\n",
       " 'rec.motorcycles',\n",
       " 'rec.sport.baseball',\n",
       " 'rec.sport.hockey',\n",
       " 'sci.crypt',\n",
       " 'sci.electronics',\n",
       " 'sci.med',\n",
       " 'sci.space',\n",
       " 'soc.religion.christian',\n",
       " 'talk.politics.guns',\n",
       " 'talk.politics.mideast',\n",
       " 'talk.politics.misc',\n",
       " 'talk.religion.misc']"
      ]
     },
     "execution_count": 5,
     "metadata": {},
     "output_type": "execute_result"
    }
   ],
   "source": [
    "from sklearn.datasets import fetch_20newsgroups\n",
    "\n",
    "newsgroups_train = fetch_20newsgroups(subset=\"train\")\n",
    "newsgroups_test = fetch_20newsgroups(subset=\"test\")\n",
    "\n",
    "# View list of class names for dataset\n",
    "newsgroups_train.target_names"
   ]
  },
  {
   "cell_type": "markdown",
   "id": "c95d4aac",
   "metadata": {
    "id": "hDz9MjkNl_FD",
    "papermill": {
     "duration": 0.007286,
     "end_time": "2025-04-02T02:22:38.062739",
     "exception": false,
     "start_time": "2025-04-02T02:22:38.055453",
     "status": "completed"
    },
    "tags": []
   },
   "source": [
    "Here is an example of what a record from the training set looks like."
   ]
  },
  {
   "cell_type": "code",
   "execution_count": 6,
   "id": "0ec7ac85",
   "metadata": {
    "execution": {
     "iopub.execute_input": "2025-04-02T02:22:38.078544Z",
     "iopub.status.busy": "2025-04-02T02:22:38.077714Z",
     "iopub.status.idle": "2025-04-02T02:22:38.082734Z",
     "shell.execute_reply": "2025-04-02T02:22:38.081676Z"
    },
    "id": "FPq-56AimOPX",
    "papermill": {
     "duration": 0.014754,
     "end_time": "2025-04-02T02:22:38.084600",
     "exception": false,
     "start_time": "2025-04-02T02:22:38.069846",
     "status": "completed"
    },
    "tags": []
   },
   "outputs": [
    {
     "name": "stdout",
     "output_type": "stream",
     "text": [
      "From: lerxst@wam.umd.edu (where's my thing)\n",
      "Subject: WHAT car is this!?\n",
      "Nntp-Posting-Host: rac3.wam.umd.edu\n",
      "Organization: University of Maryland, College Park\n",
      "Lines: 15\n",
      "\n",
      " I was wondering if anyone out there could enlighten me on this car I saw\n",
      "the other day. It was a 2-door sports car, looked to be from the late 60s/\n",
      "early 70s. It was called a Bricklin. The doors were really small. In addition,\n",
      "the front bumper was separate from the rest of the body. This is \n",
      "all I know. If anyone can tellme a model name, engine specs, years\n",
      "of production, where this car is made, history, or whatever info you\n",
      "have on this funky looking car, please e-mail.\n",
      "\n",
      "Thanks,\n",
      "- IL\n",
      "   ---- brought to you by your neighborhood Lerxst ----\n",
      "\n",
      "\n",
      "\n",
      "\n",
      "\n"
     ]
    }
   ],
   "source": [
    "print(newsgroups_train.data[0])"
   ]
  },
  {
   "cell_type": "markdown",
   "id": "56c61bb5",
   "metadata": {
    "id": "A9-DD7wgCx8j",
    "papermill": {
     "duration": 0.006866,
     "end_time": "2025-04-02T02:22:38.099151",
     "exception": false,
     "start_time": "2025-04-02T02:22:38.092285",
     "status": "completed"
    },
    "tags": []
   },
   "source": [
    "Start by preprocessing the data for this tutorial in a Pandas dataframe. To remove any sensitive information like names and email addresses, you will take only the subject and body of each message. This is an optional step that transforms the input data into more generic text, rather than email posts, so that it will work in other contexts."
   ]
  },
  {
   "cell_type": "code",
   "execution_count": 7,
   "id": "d8e4ae79",
   "metadata": {
    "execution": {
     "iopub.execute_input": "2025-04-02T02:22:38.114422Z",
     "iopub.status.busy": "2025-04-02T02:22:38.113974Z",
     "iopub.status.idle": "2025-04-02T02:22:38.861518Z",
     "shell.execute_reply": "2025-04-02T02:22:38.860846Z"
    },
    "id": "urpLwp3UmPF3",
    "papermill": {
     "duration": 0.757307,
     "end_time": "2025-04-02T02:22:38.863475",
     "exception": false,
     "start_time": "2025-04-02T02:22:38.106168",
     "status": "completed"
    },
    "tags": []
   },
   "outputs": [],
   "source": [
    "import email\n",
    "import re\n",
    "\n",
    "import pandas as pd\n",
    "\n",
    "\n",
    "def preprocess_newsgroup_row(data):\n",
    "    # Extract only the subject and body\n",
    "    msg = email.message_from_string(data)\n",
    "    text = f\"{msg['Subject']}\\n\\n{msg.get_payload()}\"\n",
    "    # Strip any remaining email addresses\n",
    "    text = re.sub(r\"[\\w\\.-]+@[\\w\\.-]+\", \"\", text)\n",
    "    # Truncate each entry to 5,000 characters\n",
    "    text = text[:5000]\n",
    "\n",
    "    return text\n",
    "\n",
    "\n",
    "def preprocess_newsgroup_data(newsgroup_dataset):\n",
    "    # Put data points into dataframe\n",
    "    df = pd.DataFrame(\n",
    "        {\"Text\": newsgroup_dataset.data, \"Label\": newsgroup_dataset.target}\n",
    "    )\n",
    "    # Clean up the text\n",
    "    df[\"Text\"] = df[\"Text\"].apply(preprocess_newsgroup_row)\n",
    "    # Match label to target name index\n",
    "    df[\"Class Name\"] = df[\"Label\"].map(lambda l: newsgroup_dataset.target_names[l])\n",
    "\n",
    "    return df"
   ]
  },
  {
   "cell_type": "code",
   "execution_count": 8,
   "id": "49b654a1",
   "metadata": {
    "execution": {
     "iopub.execute_input": "2025-04-02T02:22:38.879734Z",
     "iopub.status.busy": "2025-04-02T02:22:38.879324Z",
     "iopub.status.idle": "2025-04-02T02:22:41.928644Z",
     "shell.execute_reply": "2025-04-02T02:22:41.927737Z"
    },
    "id": "JMKddQdNnAOV",
    "papermill": {
     "duration": 3.059261,
     "end_time": "2025-04-02T02:22:41.930389",
     "exception": false,
     "start_time": "2025-04-02T02:22:38.871128",
     "status": "completed"
    },
    "tags": []
   },
   "outputs": [
    {
     "data": {
      "text/html": [
       "<div>\n",
       "<style scoped>\n",
       "    .dataframe tbody tr th:only-of-type {\n",
       "        vertical-align: middle;\n",
       "    }\n",
       "\n",
       "    .dataframe tbody tr th {\n",
       "        vertical-align: top;\n",
       "    }\n",
       "\n",
       "    .dataframe thead th {\n",
       "        text-align: right;\n",
       "    }\n",
       "</style>\n",
       "<table border=\"1\" class=\"dataframe\">\n",
       "  <thead>\n",
       "    <tr style=\"text-align: right;\">\n",
       "      <th></th>\n",
       "      <th>Text</th>\n",
       "      <th>Label</th>\n",
       "      <th>Class Name</th>\n",
       "    </tr>\n",
       "  </thead>\n",
       "  <tbody>\n",
       "    <tr>\n",
       "      <th>0</th>\n",
       "      <td>WHAT car is this!?\\n\\n I was wondering if anyo...</td>\n",
       "      <td>7</td>\n",
       "      <td>rec.autos</td>\n",
       "    </tr>\n",
       "    <tr>\n",
       "      <th>1</th>\n",
       "      <td>SI Clock Poll - Final Call\\n\\nA fair number of...</td>\n",
       "      <td>4</td>\n",
       "      <td>comp.sys.mac.hardware</td>\n",
       "    </tr>\n",
       "    <tr>\n",
       "      <th>2</th>\n",
       "      <td>PB questions...\\n\\nwell folks, my mac plus fin...</td>\n",
       "      <td>4</td>\n",
       "      <td>comp.sys.mac.hardware</td>\n",
       "    </tr>\n",
       "    <tr>\n",
       "      <th>3</th>\n",
       "      <td>Re: Weitek P9000 ?\\n\\nRobert J.C. Kyanko () wr...</td>\n",
       "      <td>1</td>\n",
       "      <td>comp.graphics</td>\n",
       "    </tr>\n",
       "    <tr>\n",
       "      <th>4</th>\n",
       "      <td>Re: Shuttle Launch Question\\n\\nFrom article &lt;&gt;...</td>\n",
       "      <td>14</td>\n",
       "      <td>sci.space</td>\n",
       "    </tr>\n",
       "  </tbody>\n",
       "</table>\n",
       "</div>"
      ],
      "text/plain": [
       "                                                Text  Label  \\\n",
       "0  WHAT car is this!?\\n\\n I was wondering if anyo...      7   \n",
       "1  SI Clock Poll - Final Call\\n\\nA fair number of...      4   \n",
       "2  PB questions...\\n\\nwell folks, my mac plus fin...      4   \n",
       "3  Re: Weitek P9000 ?\\n\\nRobert J.C. Kyanko () wr...      1   \n",
       "4  Re: Shuttle Launch Question\\n\\nFrom article <>...     14   \n",
       "\n",
       "              Class Name  \n",
       "0              rec.autos  \n",
       "1  comp.sys.mac.hardware  \n",
       "2  comp.sys.mac.hardware  \n",
       "3          comp.graphics  \n",
       "4              sci.space  "
      ]
     },
     "execution_count": 8,
     "metadata": {},
     "output_type": "execute_result"
    }
   ],
   "source": [
    "# Apply preprocessing function to training and test datasets\n",
    "df_train = preprocess_newsgroup_data(newsgroups_train)\n",
    "df_test = preprocess_newsgroup_data(newsgroups_test)\n",
    "\n",
    "df_train.head()"
   ]
  },
  {
   "cell_type": "markdown",
   "id": "c43f344d",
   "metadata": {
    "id": "ogEGbg5XDv-T",
    "papermill": {
     "duration": 0.007104,
     "end_time": "2025-04-02T02:22:41.945157",
     "exception": false,
     "start_time": "2025-04-02T02:22:41.938053",
     "status": "completed"
    },
    "tags": []
   },
   "source": [
    "Next, you will sample some of the data by taking 100 data points in the training dataset, and dropping a few of the categories to run through this tutorial. Choose the science categories to compare."
   ]
  },
  {
   "cell_type": "code",
   "execution_count": 9,
   "id": "922f847a",
   "metadata": {
    "execution": {
     "iopub.execute_input": "2025-04-02T02:22:41.961034Z",
     "iopub.status.busy": "2025-04-02T02:22:41.960759Z",
     "iopub.status.idle": "2025-04-02T02:22:41.965515Z",
     "shell.execute_reply": "2025-04-02T02:22:41.964772Z"
    },
    "id": "C2N7xXhJohLR",
    "papermill": {
     "duration": 0.014408,
     "end_time": "2025-04-02T02:22:41.967053",
     "exception": false,
     "start_time": "2025-04-02T02:22:41.952645",
     "status": "completed"
    },
    "tags": []
   },
   "outputs": [],
   "source": [
    "def sample_data(df, num_samples, classes_to_keep):\n",
    "    # Sample rows, selecting num_samples of each Label.\n",
    "    df = (\n",
    "        df.groupby(\"Label\")[df.columns]\n",
    "        .apply(lambda x: x.sample(num_samples))\n",
    "        .reset_index(drop=True)\n",
    "    )\n",
    "\n",
    "    df = df[df[\"Class Name\"].str.contains(classes_to_keep)]\n",
    "\n",
    "    # We have fewer categories now, so re-calibrate the label encoding.\n",
    "    df[\"Class Name\"] = df[\"Class Name\"].astype(\"category\")\n",
    "    df[\"Encoded Label\"] = df[\"Class Name\"].cat.codes\n",
    "\n",
    "    return df"
   ]
  },
  {
   "cell_type": "code",
   "execution_count": 10,
   "id": "ec1758bc",
   "metadata": {
    "execution": {
     "iopub.execute_input": "2025-04-02T02:22:41.982513Z",
     "iopub.status.busy": "2025-04-02T02:22:41.982262Z",
     "iopub.status.idle": "2025-04-02T02:22:42.019491Z",
     "shell.execute_reply": "2025-04-02T02:22:42.018899Z"
    },
    "id": "jS2g_ZGupBUb",
    "papermill": {
     "duration": 0.046705,
     "end_time": "2025-04-02T02:22:42.021085",
     "exception": false,
     "start_time": "2025-04-02T02:22:41.974380",
     "status": "completed"
    },
    "tags": []
   },
   "outputs": [],
   "source": [
    "TRAIN_NUM_SAMPLES = 100\n",
    "TEST_NUM_SAMPLES = 25\n",
    "# Class name should contain 'sci' to keep science categories.\n",
    "# Try different labels from the data - see newsgroups_train.target_names\n",
    "CLASSES_TO_KEEP = \"sci\"\n",
    "\n",
    "df_train = sample_data(df_train, TRAIN_NUM_SAMPLES, CLASSES_TO_KEEP)\n",
    "df_test = sample_data(df_test, TEST_NUM_SAMPLES, CLASSES_TO_KEEP)"
   ]
  },
  {
   "cell_type": "code",
   "execution_count": 11,
   "id": "cf7dede0",
   "metadata": {
    "execution": {
     "iopub.execute_input": "2025-04-02T02:22:42.038244Z",
     "iopub.status.busy": "2025-04-02T02:22:42.037559Z",
     "iopub.status.idle": "2025-04-02T02:22:42.047125Z",
     "shell.execute_reply": "2025-04-02T02:22:42.046442Z"
    },
    "id": "j04TMPY8rV5q",
    "papermill": {
     "duration": 0.019116,
     "end_time": "2025-04-02T02:22:42.048655",
     "exception": false,
     "start_time": "2025-04-02T02:22:42.029539",
     "status": "completed"
    },
    "tags": []
   },
   "outputs": [
    {
     "data": {
      "text/plain": [
       "Class Name\n",
       "sci.crypt          100\n",
       "sci.electronics    100\n",
       "sci.med            100\n",
       "sci.space          100\n",
       "Name: count, dtype: int64"
      ]
     },
     "execution_count": 11,
     "metadata": {},
     "output_type": "execute_result"
    }
   ],
   "source": [
    "df_train.value_counts(\"Class Name\")"
   ]
  },
  {
   "cell_type": "code",
   "execution_count": 12,
   "id": "a4f6def1",
   "metadata": {
    "execution": {
     "iopub.execute_input": "2025-04-02T02:22:42.064550Z",
     "iopub.status.busy": "2025-04-02T02:22:42.064063Z",
     "iopub.status.idle": "2025-04-02T02:22:42.070439Z",
     "shell.execute_reply": "2025-04-02T02:22:42.069612Z"
    },
    "id": "qMsnfkVDsJlU",
    "papermill": {
     "duration": 0.016021,
     "end_time": "2025-04-02T02:22:42.071994",
     "exception": false,
     "start_time": "2025-04-02T02:22:42.055973",
     "status": "completed"
    },
    "tags": []
   },
   "outputs": [
    {
     "data": {
      "text/plain": [
       "Class Name\n",
       "sci.crypt          25\n",
       "sci.electronics    25\n",
       "sci.med            25\n",
       "sci.space          25\n",
       "Name: count, dtype: int64"
      ]
     },
     "execution_count": 12,
     "metadata": {},
     "output_type": "execute_result"
    }
   ],
   "source": [
    "df_test.value_counts(\"Class Name\")"
   ]
  },
  {
   "cell_type": "markdown",
   "id": "d4944b9a",
   "metadata": {
    "id": "Kr-WlKzXjYWn",
    "papermill": {
     "duration": 0.007182,
     "end_time": "2025-04-02T02:22:42.086545",
     "exception": false,
     "start_time": "2025-04-02T02:22:42.079363",
     "status": "completed"
    },
    "tags": []
   },
   "source": [
    "## Create the embeddings\n",
    "\n",
    "In this section, you will generate embeddings for each piece of text using the Gemini API embeddings endpoint. To learn more about embeddings, visit the [embeddings guide](https://ai.google.dev/docs/embeddings_guide).\n",
    "\n",
    "**NOTE**: Embeddings are computed one at a time, so large sample sizes can take a long time!"
   ]
  },
  {
   "cell_type": "markdown",
   "id": "30ad0673",
   "metadata": {
    "id": "yPECMeE2xYA_",
    "papermill": {
     "duration": 0.007523,
     "end_time": "2025-04-02T02:22:42.101448",
     "exception": false,
     "start_time": "2025-04-02T02:22:42.093925",
     "status": "completed"
    },
    "tags": []
   },
   "source": [
    "### Task types\n",
    "\n",
    "The `text-embedding-004` model supports a task type parameter that generates embeddings tailored for the specific task.\n",
    "\n",
    "Task Type | Description\n",
    "---       | ---\n",
    "RETRIEVAL_QUERY\t| Specifies the given text is a query in a search/retrieval setting.\n",
    "RETRIEVAL_DOCUMENT | Specifies the given text is a document in a search/retrieval setting.\n",
    "SEMANTIC_SIMILARITY\t| Specifies the given text will be used for Semantic Textual Similarity (STS).\n",
    "CLASSIFICATION\t| Specifies that the embeddings will be used for classification.\n",
    "CLUSTERING\t| Specifies that the embeddings will be used for clustering.\n",
    "FACT_VERIFICATION | Specifies that the given text will be used for fact verification.\n",
    "\n",
    "For this example you will be performing classification."
   ]
  },
  {
   "cell_type": "code",
   "execution_count": 13,
   "id": "e1f0f42f",
   "metadata": {
    "execution": {
     "iopub.execute_input": "2025-04-02T02:22:42.117577Z",
     "iopub.status.busy": "2025-04-02T02:22:42.116882Z",
     "iopub.status.idle": "2025-04-02T02:22:42.313093Z",
     "shell.execute_reply": "2025-04-02T02:22:42.312219Z"
    },
    "id": "MTBGKkPQsotz",
    "papermill": {
     "duration": 0.206279,
     "end_time": "2025-04-02T02:22:42.315063",
     "exception": false,
     "start_time": "2025-04-02T02:22:42.108784",
     "status": "completed"
    },
    "tags": []
   },
   "outputs": [],
   "source": [
    "from google.api_core import retry\n",
    "import tqdm\n",
    "from tqdm.rich import tqdm as tqdmr\n",
    "import warnings\n",
    "\n",
    "# Add tqdm to Pandas...\n",
    "tqdmr.pandas()\n",
    "\n",
    "# ...But suppress the experimental warning.\n",
    "warnings.filterwarnings(\"ignore\", category=tqdm.TqdmExperimentalWarning)\n",
    "\n",
    "# Define a helper to retry when per-minute quota is reached.\n",
    "is_retriable = lambda e: (isinstance(e, genai.errors.APIError) and e.code in {429, 503})\n",
    "\n",
    "@retry.Retry(predicate=is_retriable, timeout=300.0)\n",
    "def embed_fn(text: str) -> list[float]:\n",
    "    # You will be performing classification, so set task_type accordingly.\n",
    "    response = client.models.embed_content(\n",
    "        model=\"models/text-embedding-004\",\n",
    "        contents=text,\n",
    "        config=types.EmbedContentConfig(\n",
    "            task_type=\"classification\",\n",
    "        ),\n",
    "    )\n",
    "\n",
    "    return response.embeddings[0].values\n",
    "\n",
    "\n",
    "def create_embeddings(df):\n",
    "    df[\"Embeddings\"] = df[\"Text\"].progress_apply(embed_fn)\n",
    "    return df"
   ]
  },
  {
   "cell_type": "markdown",
   "id": "a54caa3e",
   "metadata": {
    "id": "HVDwY8F2kW2O",
    "papermill": {
     "duration": 0.008878,
     "end_time": "2025-04-02T02:22:42.331757",
     "exception": false,
     "start_time": "2025-04-02T02:22:42.322879",
     "status": "completed"
    },
    "tags": []
   },
   "source": [
    "This code is optimised for clarity, and is not particularly fast. It is left as an exercise for the reader to implement [batch](https://ai.google.dev/api/embeddings#method:-models.batchembedcontents) or parallel/asynchronous embedding generation. Running this step will take some time."
   ]
  },
  {
   "cell_type": "code",
   "execution_count": 14,
   "id": "e95e15a9",
   "metadata": {
    "execution": {
     "iopub.execute_input": "2025-04-02T02:22:42.355156Z",
     "iopub.status.busy": "2025-04-02T02:22:42.354655Z",
     "iopub.status.idle": "2025-04-02T02:29:15.453865Z",
     "shell.execute_reply": "2025-04-02T02:29:15.453164Z"
    },
    "id": "AH0yrHUHtHtw",
    "papermill": {
     "duration": 396.824364,
     "end_time": "2025-04-02T02:29:19.168883",
     "exception": false,
     "start_time": "2025-04-02T02:22:42.344519",
     "status": "completed"
    },
    "tags": []
   },
   "outputs": [
    {
     "data": {
      "application/vnd.jupyter.widget-view+json": {
       "model_id": "ceda80692f6f461181424919fad7d8a7",
       "version_major": 2,
       "version_minor": 0
      },
      "text/plain": [
       "Output()"
      ]
     },
     "metadata": {},
     "output_type": "display_data"
    },
    {
     "data": {
      "text/html": [
       "<pre style=\"white-space:pre;overflow-x:auto;line-height:normal;font-family:Menlo,'DejaVu Sans Mono',consolas,'Courier New',monospace\"></pre>\n"
      ],
      "text/plain": []
     },
     "metadata": {},
     "output_type": "display_data"
    },
    {
     "data": {
      "application/vnd.jupyter.widget-view+json": {
       "model_id": "cef26e458f084bad8c6ea4926ac30153",
       "version_major": 2,
       "version_minor": 0
      },
      "text/plain": [
       "Output()"
      ]
     },
     "metadata": {},
     "output_type": "display_data"
    },
    {
     "data": {
      "text/html": [
       "<pre style=\"white-space:pre;overflow-x:auto;line-height:normal;font-family:Menlo,'DejaVu Sans Mono',consolas,'Courier New',monospace\"></pre>\n"
      ],
      "text/plain": []
     },
     "metadata": {},
     "output_type": "display_data"
    }
   ],
   "source": [
    "df_train = create_embeddings(df_train)\n",
    "df_test = create_embeddings(df_test)"
   ]
  },
  {
   "cell_type": "code",
   "execution_count": 15,
   "id": "0635e04e",
   "metadata": {
    "execution": {
     "iopub.execute_input": "2025-04-02T02:29:24.683655Z",
     "iopub.status.busy": "2025-04-02T02:29:24.683446Z",
     "iopub.status.idle": "2025-04-02T02:29:24.696931Z",
     "shell.execute_reply": "2025-04-02T02:29:24.696228Z"
    },
    "id": "6G5TvLlmRjHc",
    "papermill": {
     "duration": 5.515259,
     "end_time": "2025-04-02T02:29:24.698893",
     "exception": false,
     "start_time": "2025-04-02T02:29:19.183634",
     "status": "completed"
    },
    "tags": []
   },
   "outputs": [
    {
     "data": {
      "text/html": [
       "<div>\n",
       "<style scoped>\n",
       "    .dataframe tbody tr th:only-of-type {\n",
       "        vertical-align: middle;\n",
       "    }\n",
       "\n",
       "    .dataframe tbody tr th {\n",
       "        vertical-align: top;\n",
       "    }\n",
       "\n",
       "    .dataframe thead th {\n",
       "        text-align: right;\n",
       "    }\n",
       "</style>\n",
       "<table border=\"1\" class=\"dataframe\">\n",
       "  <thead>\n",
       "    <tr style=\"text-align: right;\">\n",
       "      <th></th>\n",
       "      <th>Text</th>\n",
       "      <th>Label</th>\n",
       "      <th>Class Name</th>\n",
       "      <th>Encoded Label</th>\n",
       "      <th>Embeddings</th>\n",
       "    </tr>\n",
       "  </thead>\n",
       "  <tbody>\n",
       "    <tr>\n",
       "      <th>1100</th>\n",
       "      <td>RIPEM Frequently Asked Questions\\n\\nArchive-na...</td>\n",
       "      <td>11</td>\n",
       "      <td>sci.crypt</td>\n",
       "      <td>0</td>\n",
       "      <td>[-0.003882501, 0.023245921, -0.034277435, 0.00...</td>\n",
       "    </tr>\n",
       "    <tr>\n",
       "      <th>1101</th>\n",
       "      <td>Re: Pgp, PEM, and RFC's (Was: Cryptography Pat...</td>\n",
       "      <td>11</td>\n",
       "      <td>sci.crypt</td>\n",
       "      <td>0</td>\n",
       "      <td>[-0.011718064, 0.02755031, -0.029747022, -0.01...</td>\n",
       "    </tr>\n",
       "    <tr>\n",
       "      <th>1102</th>\n",
       "      <td>Cryptography FAQ 09/10 - Other Miscellany\\n\\nA...</td>\n",
       "      <td>11</td>\n",
       "      <td>sci.crypt</td>\n",
       "      <td>0</td>\n",
       "      <td>[0.013660435, 0.01853579, -0.051745623, 0.0133...</td>\n",
       "    </tr>\n",
       "    <tr>\n",
       "      <th>1103</th>\n",
       "      <td>Re: Once tapped, your code is no good any more...</td>\n",
       "      <td>11</td>\n",
       "      <td>sci.crypt</td>\n",
       "      <td>0</td>\n",
       "      <td>[0.005239672, 0.018618511, -0.0505974, 0.02780...</td>\n",
       "    </tr>\n",
       "    <tr>\n",
       "      <th>1104</th>\n",
       "      <td>Re: Pgp, PEM, and RFC's (Was: Cryptography Pat...</td>\n",
       "      <td>11</td>\n",
       "      <td>sci.crypt</td>\n",
       "      <td>0</td>\n",
       "      <td>[-0.009729882, 0.03217629, -0.035181765, 0.012...</td>\n",
       "    </tr>\n",
       "  </tbody>\n",
       "</table>\n",
       "</div>"
      ],
      "text/plain": [
       "                                                   Text  Label Class Name  \\\n",
       "1100  RIPEM Frequently Asked Questions\\n\\nArchive-na...     11  sci.crypt   \n",
       "1101  Re: Pgp, PEM, and RFC's (Was: Cryptography Pat...     11  sci.crypt   \n",
       "1102  Cryptography FAQ 09/10 - Other Miscellany\\n\\nA...     11  sci.crypt   \n",
       "1103  Re: Once tapped, your code is no good any more...     11  sci.crypt   \n",
       "1104  Re: Pgp, PEM, and RFC's (Was: Cryptography Pat...     11  sci.crypt   \n",
       "\n",
       "      Encoded Label                                         Embeddings  \n",
       "1100              0  [-0.003882501, 0.023245921, -0.034277435, 0.00...  \n",
       "1101              0  [-0.011718064, 0.02755031, -0.029747022, -0.01...  \n",
       "1102              0  [0.013660435, 0.01853579, -0.051745623, 0.0133...  \n",
       "1103              0  [0.005239672, 0.018618511, -0.0505974, 0.02780...  \n",
       "1104              0  [-0.009729882, 0.03217629, -0.035181765, 0.012...  "
      ]
     },
     "execution_count": 15,
     "metadata": {},
     "output_type": "execute_result"
    }
   ],
   "source": [
    "df_train.head()"
   ]
  },
  {
   "cell_type": "markdown",
   "id": "f1901bbc",
   "metadata": {
    "id": "QPYEYkIsWt_5",
    "papermill": {
     "duration": 0.008152,
     "end_time": "2025-04-02T02:29:24.715433",
     "exception": false,
     "start_time": "2025-04-02T02:29:24.707281",
     "status": "completed"
    },
    "tags": []
   },
   "source": [
    "## Build a classification model\n",
    "\n",
    "Here you will define a simple model that accepts the raw embedding data as input, has one hidden layer, and an output layer specifying the class probabilities. The prediction will correspond to the probability of a piece of text being a particular class of news.\n",
    "\n",
    "When you run the model, Keras will take care of details like shuffling the data points, calculating metrics and other ML boilerplate."
   ]
  },
  {
   "cell_type": "code",
   "execution_count": 16,
   "id": "c356a119",
   "metadata": {
    "execution": {
     "iopub.execute_input": "2025-04-02T02:29:24.732826Z",
     "iopub.status.busy": "2025-04-02T02:29:24.732333Z",
     "iopub.status.idle": "2025-04-02T02:29:36.847233Z",
     "shell.execute_reply": "2025-04-02T02:29:36.846452Z"
    },
    "id": "3oLGi4w5JsQR",
    "papermill": {
     "duration": 12.125743,
     "end_time": "2025-04-02T02:29:36.849305",
     "exception": false,
     "start_time": "2025-04-02T02:29:24.723562",
     "status": "completed"
    },
    "tags": []
   },
   "outputs": [],
   "source": [
    "import keras\n",
    "from keras import layers\n",
    "\n",
    "\n",
    "def build_classification_model(input_size: int, num_classes: int) -> keras.Model:\n",
    "    return keras.Sequential(\n",
    "        [\n",
    "            layers.Input([input_size], name=\"embedding_inputs\"),\n",
    "            layers.Dense(input_size, activation=\"relu\", name=\"hidden\"),\n",
    "            layers.Dense(num_classes, activation=\"softmax\", name=\"output_probs\"),\n",
    "        ]\n",
    "    )"
   ]
  },
  {
   "cell_type": "code",
   "execution_count": 17,
   "id": "abcc0bd0",
   "metadata": {
    "execution": {
     "iopub.execute_input": "2025-04-02T02:29:36.867593Z",
     "iopub.status.busy": "2025-04-02T02:29:36.867088Z",
     "iopub.status.idle": "2025-04-02T02:29:37.885456Z",
     "shell.execute_reply": "2025-04-02T02:29:37.884841Z"
    },
    "id": "kORA1Akl5GsG",
    "papermill": {
     "duration": 1.028934,
     "end_time": "2025-04-02T02:29:37.887023",
     "exception": false,
     "start_time": "2025-04-02T02:29:36.858089",
     "status": "completed"
    },
    "tags": []
   },
   "outputs": [
    {
     "data": {
      "text/html": [
       "<pre style=\"white-space:pre;overflow-x:auto;line-height:normal;font-family:Menlo,'DejaVu Sans Mono',consolas,'Courier New',monospace\"><span style=\"font-weight: bold\">Model: \"sequential\"</span>\n",
       "</pre>\n"
      ],
      "text/plain": [
       "\u001b[1mModel: \"sequential\"\u001b[0m\n"
      ]
     },
     "metadata": {},
     "output_type": "display_data"
    },
    {
     "data": {
      "text/html": [
       "<pre style=\"white-space:pre;overflow-x:auto;line-height:normal;font-family:Menlo,'DejaVu Sans Mono',consolas,'Courier New',monospace\">┏━━━━━━━━━━━━━━━━━━━━━━━━━━━━━━━━━┳━━━━━━━━━━━━━━━━━━━━━━━━┳━━━━━━━━━━━━━━━┓\n",
       "┃<span style=\"font-weight: bold\"> Layer (type)                    </span>┃<span style=\"font-weight: bold\"> Output Shape           </span>┃<span style=\"font-weight: bold\">       Param # </span>┃\n",
       "┡━━━━━━━━━━━━━━━━━━━━━━━━━━━━━━━━━╇━━━━━━━━━━━━━━━━━━━━━━━━╇━━━━━━━━━━━━━━━┩\n",
       "│ hidden (<span style=\"color: #0087ff; text-decoration-color: #0087ff\">Dense</span>)                  │ (<span style=\"color: #00d7ff; text-decoration-color: #00d7ff\">None</span>, <span style=\"color: #00af00; text-decoration-color: #00af00\">768</span>)            │       <span style=\"color: #00af00; text-decoration-color: #00af00\">590,592</span> │\n",
       "├─────────────────────────────────┼────────────────────────┼───────────────┤\n",
       "│ output_probs (<span style=\"color: #0087ff; text-decoration-color: #0087ff\">Dense</span>)            │ (<span style=\"color: #00d7ff; text-decoration-color: #00d7ff\">None</span>, <span style=\"color: #00af00; text-decoration-color: #00af00\">4</span>)              │         <span style=\"color: #00af00; text-decoration-color: #00af00\">3,076</span> │\n",
       "└─────────────────────────────────┴────────────────────────┴───────────────┘\n",
       "</pre>\n"
      ],
      "text/plain": [
       "┏━━━━━━━━━━━━━━━━━━━━━━━━━━━━━━━━━┳━━━━━━━━━━━━━━━━━━━━━━━━┳━━━━━━━━━━━━━━━┓\n",
       "┃\u001b[1m \u001b[0m\u001b[1mLayer (type)                   \u001b[0m\u001b[1m \u001b[0m┃\u001b[1m \u001b[0m\u001b[1mOutput Shape          \u001b[0m\u001b[1m \u001b[0m┃\u001b[1m \u001b[0m\u001b[1m      Param #\u001b[0m\u001b[1m \u001b[0m┃\n",
       "┡━━━━━━━━━━━━━━━━━━━━━━━━━━━━━━━━━╇━━━━━━━━━━━━━━━━━━━━━━━━╇━━━━━━━━━━━━━━━┩\n",
       "│ hidden (\u001b[38;5;33mDense\u001b[0m)                  │ (\u001b[38;5;45mNone\u001b[0m, \u001b[38;5;34m768\u001b[0m)            │       \u001b[38;5;34m590,592\u001b[0m │\n",
       "├─────────────────────────────────┼────────────────────────┼───────────────┤\n",
       "│ output_probs (\u001b[38;5;33mDense\u001b[0m)            │ (\u001b[38;5;45mNone\u001b[0m, \u001b[38;5;34m4\u001b[0m)              │         \u001b[38;5;34m3,076\u001b[0m │\n",
       "└─────────────────────────────────┴────────────────────────┴───────────────┘\n"
      ]
     },
     "metadata": {},
     "output_type": "display_data"
    },
    {
     "data": {
      "text/html": [
       "<pre style=\"white-space:pre;overflow-x:auto;line-height:normal;font-family:Menlo,'DejaVu Sans Mono',consolas,'Courier New',monospace\"><span style=\"font-weight: bold\"> Total params: </span><span style=\"color: #00af00; text-decoration-color: #00af00\">593,668</span> (2.26 MB)\n",
       "</pre>\n"
      ],
      "text/plain": [
       "\u001b[1m Total params: \u001b[0m\u001b[38;5;34m593,668\u001b[0m (2.26 MB)\n"
      ]
     },
     "metadata": {},
     "output_type": "display_data"
    },
    {
     "data": {
      "text/html": [
       "<pre style=\"white-space:pre;overflow-x:auto;line-height:normal;font-family:Menlo,'DejaVu Sans Mono',consolas,'Courier New',monospace\"><span style=\"font-weight: bold\"> Trainable params: </span><span style=\"color: #00af00; text-decoration-color: #00af00\">593,668</span> (2.26 MB)\n",
       "</pre>\n"
      ],
      "text/plain": [
       "\u001b[1m Trainable params: \u001b[0m\u001b[38;5;34m593,668\u001b[0m (2.26 MB)\n"
      ]
     },
     "metadata": {},
     "output_type": "display_data"
    },
    {
     "data": {
      "text/html": [
       "<pre style=\"white-space:pre;overflow-x:auto;line-height:normal;font-family:Menlo,'DejaVu Sans Mono',consolas,'Courier New',monospace\"><span style=\"font-weight: bold\"> Non-trainable params: </span><span style=\"color: #00af00; text-decoration-color: #00af00\">0</span> (0.00 B)\n",
       "</pre>\n"
      ],
      "text/plain": [
       "\u001b[1m Non-trainable params: \u001b[0m\u001b[38;5;34m0\u001b[0m (0.00 B)\n"
      ]
     },
     "metadata": {},
     "output_type": "display_data"
    }
   ],
   "source": [
    "# Derive the embedding size from observing the data. The embedding size can also be specified\n",
    "# with the `output_dimensionality` parameter to `embed_content` if you need to reduce it.\n",
    "embedding_size = len(df_train[\"Embeddings\"].iloc[0])\n",
    "\n",
    "classifier = build_classification_model(\n",
    "    embedding_size, len(df_train[\"Class Name\"].unique())\n",
    ")\n",
    "classifier.summary()\n",
    "\n",
    "classifier.compile(\n",
    "    loss=keras.losses.SparseCategoricalCrossentropy(),\n",
    "    optimizer=keras.optimizers.Adam(learning_rate=0.001),\n",
    "    metrics=[\"accuracy\"],\n",
    ")"
   ]
  },
  {
   "cell_type": "markdown",
   "id": "6084824c",
   "metadata": {
    "id": "kbpTGGiMXDxl",
    "papermill": {
     "duration": 0.008312,
     "end_time": "2025-04-02T02:29:37.904505",
     "exception": false,
     "start_time": "2025-04-02T02:29:37.896193",
     "status": "completed"
    },
    "tags": []
   },
   "source": [
    "## Train the model\n",
    "\n",
    "Finally, you can train your model. This code uses early stopping to exit the training loop once the loss value stabilises, so the number of epoch loops executed may differ from the specified value."
   ]
  },
  {
   "cell_type": "code",
   "execution_count": 18,
   "id": "1e4a4488",
   "metadata": {
    "execution": {
     "iopub.execute_input": "2025-04-02T02:29:37.922928Z",
     "iopub.status.busy": "2025-04-02T02:29:37.922194Z",
     "iopub.status.idle": "2025-04-02T02:29:42.294610Z",
     "shell.execute_reply": "2025-04-02T02:29:42.293865Z"
    },
    "id": "bGgvMZGfJ1A4",
    "papermill": {
     "duration": 4.383433,
     "end_time": "2025-04-02T02:29:42.296437",
     "exception": false,
     "start_time": "2025-04-02T02:29:37.913004",
     "status": "completed"
    },
    "tags": []
   },
   "outputs": [
    {
     "name": "stdout",
     "output_type": "stream",
     "text": [
      "Epoch 1/20\n"
     ]
    },
    {
     "name": "stderr",
     "output_type": "stream",
     "text": [
      "WARNING: All log messages before absl::InitializeLog() is called are written to STDERR\n",
      "I0000 00:00:1743560978.622497      81 service.cc:145] XLA service 0x7c6aa400e3a0 initialized for platform CUDA (this does not guarantee that XLA will be used). Devices:\n",
      "I0000 00:00:1743560978.622546      81 service.cc:153]   StreamExecutor device (0): Tesla T4, Compute Capability 7.5\n",
      "I0000 00:00:1743560978.622550      81 service.cc:153]   StreamExecutor device (1): Tesla T4, Compute Capability 7.5\n"
     ]
    },
    {
     "name": "stdout",
     "output_type": "stream",
     "text": [
      "\u001b[1m 1/13\u001b[0m \u001b[32m━\u001b[0m\u001b[37m━━━━━━━━━━━━━━━━━━━\u001b[0m \u001b[1m21s\u001b[0m 2s/step - accuracy: 0.2500 - loss: 1.3881"
     ]
    },
    {
     "name": "stderr",
     "output_type": "stream",
     "text": [
      "I0000 00:00:1743560979.773185      81 device_compiler.h:188] Compiled cluster using XLA!  This line is logged at most once for the lifetime of the process.\n"
     ]
    },
    {
     "name": "stdout",
     "output_type": "stream",
     "text": [
      "\u001b[1m13/13\u001b[0m \u001b[32m━━━━━━━━━━━━━━━━━━━━\u001b[0m\u001b[37m\u001b[0m \u001b[1m3s\u001b[0m 97ms/step - accuracy: 0.4001 - loss: 1.3550 - val_accuracy: 0.5800 - val_loss: 1.2555\n",
      "Epoch 2/20\n",
      "\u001b[1m13/13\u001b[0m \u001b[32m━━━━━━━━━━━━━━━━━━━━\u001b[0m\u001b[37m\u001b[0m \u001b[1m0s\u001b[0m 4ms/step - accuracy: 0.6403 - loss: 1.1891 - val_accuracy: 0.6600 - val_loss: 1.1501\n",
      "Epoch 3/20\n",
      "\u001b[1m13/13\u001b[0m \u001b[32m━━━━━━━━━━━━━━━━━━━━\u001b[0m\u001b[37m\u001b[0m \u001b[1m0s\u001b[0m 4ms/step - accuracy: 0.7455 - loss: 1.0364 - val_accuracy: 0.6300 - val_loss: 1.0204\n",
      "Epoch 4/20\n",
      "\u001b[1m13/13\u001b[0m \u001b[32m━━━━━━━━━━━━━━━━━━━━\u001b[0m\u001b[37m\u001b[0m \u001b[1m0s\u001b[0m 5ms/step - accuracy: 0.8665 - loss: 0.8368 - val_accuracy: 0.7100 - val_loss: 0.8972\n",
      "Epoch 5/20\n",
      "\u001b[1m13/13\u001b[0m \u001b[32m━━━━━━━━━━━━━━━━━━━━\u001b[0m\u001b[37m\u001b[0m \u001b[1m0s\u001b[0m 4ms/step - accuracy: 0.8785 - loss: 0.7008 - val_accuracy: 0.8400 - val_loss: 0.7462\n",
      "Epoch 6/20\n",
      "\u001b[1m13/13\u001b[0m \u001b[32m━━━━━━━━━━━━━━━━━━━━\u001b[0m\u001b[37m\u001b[0m \u001b[1m0s\u001b[0m 4ms/step - accuracy: 0.9409 - loss: 0.5343 - val_accuracy: 0.8700 - val_loss: 0.6304\n",
      "Epoch 7/20\n",
      "\u001b[1m13/13\u001b[0m \u001b[32m━━━━━━━━━━━━━━━━━━━━\u001b[0m\u001b[37m\u001b[0m \u001b[1m0s\u001b[0m 4ms/step - accuracy: 0.9382 - loss: 0.4388 - val_accuracy: 0.9000 - val_loss: 0.5285\n",
      "Epoch 8/20\n",
      "\u001b[1m13/13\u001b[0m \u001b[32m━━━━━━━━━━━━━━━━━━━━\u001b[0m\u001b[37m\u001b[0m \u001b[1m0s\u001b[0m 4ms/step - accuracy: 0.9745 - loss: 0.3081 - val_accuracy: 0.9200 - val_loss: 0.4693\n",
      "Epoch 9/20\n",
      "\u001b[1m13/13\u001b[0m \u001b[32m━━━━━━━━━━━━━━━━━━━━\u001b[0m\u001b[37m\u001b[0m \u001b[1m0s\u001b[0m 4ms/step - accuracy: 0.9662 - loss: 0.2642 - val_accuracy: 0.9200 - val_loss: 0.4244\n",
      "Epoch 10/20\n",
      "\u001b[1m13/13\u001b[0m \u001b[32m━━━━━━━━━━━━━━━━━━━━\u001b[0m\u001b[37m\u001b[0m \u001b[1m0s\u001b[0m 4ms/step - accuracy: 0.9599 - loss: 0.2171 - val_accuracy: 0.8900 - val_loss: 0.4157\n",
      "Epoch 11/20\n",
      "\u001b[1m13/13\u001b[0m \u001b[32m━━━━━━━━━━━━━━━━━━━━\u001b[0m\u001b[37m\u001b[0m \u001b[1m0s\u001b[0m 4ms/step - accuracy: 0.9873 - loss: 0.1809 - val_accuracy: 0.9000 - val_loss: 0.3692\n",
      "Epoch 12/20\n",
      "\u001b[1m13/13\u001b[0m \u001b[32m━━━━━━━━━━━━━━━━━━━━\u001b[0m\u001b[37m\u001b[0m \u001b[1m0s\u001b[0m 4ms/step - accuracy: 0.9836 - loss: 0.1532 - val_accuracy: 0.9000 - val_loss: 0.3597\n",
      "Epoch 13/20\n",
      "\u001b[1m13/13\u001b[0m \u001b[32m━━━━━━━━━━━━━━━━━━━━\u001b[0m\u001b[37m\u001b[0m \u001b[1m0s\u001b[0m 3ms/step - accuracy: 0.9836 - loss: 0.1423 - val_accuracy: 0.8600 - val_loss: 0.3912\n",
      "Epoch 14/20\n",
      "\u001b[1m13/13\u001b[0m \u001b[32m━━━━━━━━━━━━━━━━━━━━\u001b[0m\u001b[37m\u001b[0m \u001b[1m0s\u001b[0m 4ms/step - accuracy: 0.9903 - loss: 0.1197 - val_accuracy: 0.8900 - val_loss: 0.3386\n",
      "Epoch 15/20\n",
      "\u001b[1m13/13\u001b[0m \u001b[32m━━━━━━━━━━━━━━━━━━━━\u001b[0m\u001b[37m\u001b[0m \u001b[1m0s\u001b[0m 4ms/step - accuracy: 0.9759 - loss: 0.1232 - val_accuracy: 0.9000 - val_loss: 0.3201\n",
      "Epoch 16/20\n",
      "\u001b[1m13/13\u001b[0m \u001b[32m━━━━━━━━━━━━━━━━━━━━\u001b[0m\u001b[37m\u001b[0m \u001b[1m0s\u001b[0m 4ms/step - accuracy: 0.9907 - loss: 0.1015 - val_accuracy: 0.9200 - val_loss: 0.2954\n",
      "Epoch 17/20\n",
      "\u001b[1m13/13\u001b[0m \u001b[32m━━━━━━━━━━━━━━━━━━━━\u001b[0m\u001b[37m\u001b[0m \u001b[1m0s\u001b[0m 3ms/step - accuracy: 0.9933 - loss: 0.0977 - val_accuracy: 0.8700 - val_loss: 0.3469\n",
      "Epoch 18/20\n",
      "\u001b[1m13/13\u001b[0m \u001b[32m━━━━━━━━━━━━━━━━━━━━\u001b[0m\u001b[37m\u001b[0m \u001b[1m0s\u001b[0m 3ms/step - accuracy: 0.9898 - loss: 0.0843 - val_accuracy: 0.9100 - val_loss: 0.2913\n",
      "Epoch 19/20\n",
      "\u001b[1m13/13\u001b[0m \u001b[32m━━━━━━━━━━━━━━━━━━━━\u001b[0m\u001b[37m\u001b[0m \u001b[1m0s\u001b[0m 3ms/step - accuracy: 0.9899 - loss: 0.0678 - val_accuracy: 0.9000 - val_loss: 0.2836\n",
      "Epoch 20/20\n",
      "\u001b[1m13/13\u001b[0m \u001b[32m━━━━━━━━━━━━━━━━━━━━\u001b[0m\u001b[37m\u001b[0m \u001b[1m0s\u001b[0m 3ms/step - accuracy: 0.9918 - loss: 0.0649 - val_accuracy: 0.9000 - val_loss: 0.3202\n"
     ]
    }
   ],
   "source": [
    "import numpy as np\n",
    "\n",
    "\n",
    "NUM_EPOCHS = 20\n",
    "BATCH_SIZE = 32\n",
    "\n",
    "# Split the x and y components of the train and validation subsets.\n",
    "y_train = df_train[\"Encoded Label\"]\n",
    "x_train = np.stack(df_train[\"Embeddings\"])\n",
    "y_val = df_test[\"Encoded Label\"]\n",
    "x_val = np.stack(df_test[\"Embeddings\"])\n",
    "\n",
    "# Specify that it's OK to stop early if accuracy stabilises.\n",
    "early_stop = keras.callbacks.EarlyStopping(monitor=\"accuracy\", patience=3)\n",
    "\n",
    "# Train the model for the desired number of epochs.\n",
    "history = classifier.fit(\n",
    "    x=x_train,\n",
    "    y=y_train,\n",
    "    validation_data=(x_val, y_val),\n",
    "    callbacks=[early_stop],\n",
    "    batch_size=BATCH_SIZE,\n",
    "    epochs=NUM_EPOCHS,\n",
    ")"
   ]
  },
  {
   "cell_type": "markdown",
   "id": "9edcfed9",
   "metadata": {
    "id": "xGBaDHZUPdJO",
    "papermill": {
     "duration": 0.013032,
     "end_time": "2025-04-02T02:29:42.322658",
     "exception": false,
     "start_time": "2025-04-02T02:29:42.309626",
     "status": "completed"
    },
    "tags": []
   },
   "source": [
    "## Evaluate model performance\n",
    "\n",
    "Use Keras <a href=\"https://www.tensorflow.org/api_docs/python/tf/keras/Model#evaluate\"><code>Model.evaluate</code></a> to calculate the loss and accuracy on the test dataset."
   ]
  },
  {
   "cell_type": "code",
   "execution_count": 19,
   "id": "6e3d1d09",
   "metadata": {
    "execution": {
     "iopub.execute_input": "2025-04-02T02:29:42.346477Z",
     "iopub.status.busy": "2025-04-02T02:29:42.346176Z",
     "iopub.status.idle": "2025-04-02T02:29:42.419481Z",
     "shell.execute_reply": "2025-04-02T02:29:42.418586Z"
    },
    "id": "d2kOeiqqQIB8",
    "papermill": {
     "duration": 0.087061,
     "end_time": "2025-04-02T02:29:42.421134",
     "exception": false,
     "start_time": "2025-04-02T02:29:42.334073",
     "status": "completed"
    },
    "tags": []
   },
   "outputs": [
    {
     "name": "stdout",
     "output_type": "stream",
     "text": [
      "\u001b[1m4/4\u001b[0m \u001b[32m━━━━━━━━━━━━━━━━━━━━\u001b[0m\u001b[37m\u001b[0m \u001b[1m0s\u001b[0m 2ms/step - accuracy: 0.9069 - loss: 0.3237 \n"
     ]
    },
    {
     "data": {
      "text/plain": [
       "{'accuracy': 0.8999999761581421, 'loss': 0.32021915912628174}"
      ]
     },
     "execution_count": 19,
     "metadata": {},
     "output_type": "execute_result"
    }
   ],
   "source": [
    "classifier.evaluate(x=x_val, y=y_val, return_dict=True)"
   ]
  },
  {
   "cell_type": "markdown",
   "id": "abd9f092",
   "metadata": {
    "id": "UyxMhiLYQXAN",
    "papermill": {
     "duration": 0.011276,
     "end_time": "2025-04-02T02:29:42.444161",
     "exception": false,
     "start_time": "2025-04-02T02:29:42.432885",
     "status": "completed"
    },
    "tags": []
   },
   "source": [
    "To learn more about training models with Keras, including how to visualise the model training metrics, read [Training & evaluation with built-in methods](https://www.tensorflow.org/guide/keras/training_with_built_in_methods)."
   ]
  },
  {
   "cell_type": "markdown",
   "id": "8ef19433",
   "metadata": {
    "id": "XHyP-_torwsm",
    "papermill": {
     "duration": 0.011229,
     "end_time": "2025-04-02T02:29:42.466707",
     "exception": false,
     "start_time": "2025-04-02T02:29:42.455478",
     "status": "completed"
    },
    "tags": []
   },
   "source": [
    "## Try a custom prediction\n",
    "\n",
    "Now that you have a trained model with good evaluation metrics, you can try to make a prediction with new, hand-written data. Use the provided example or try your own data to see how the model performs."
   ]
  },
  {
   "cell_type": "code",
   "execution_count": 20,
   "id": "ac2007cb",
   "metadata": {
    "execution": {
     "iopub.execute_input": "2025-04-02T02:29:42.491746Z",
     "iopub.status.busy": "2025-04-02T02:29:42.491166Z",
     "iopub.status.idle": "2025-04-02T02:29:42.495943Z",
     "shell.execute_reply": "2025-04-02T02:29:42.495234Z"
    },
    "id": "Lj4gR0Mdr2rb",
    "papermill": {
     "duration": 0.018991,
     "end_time": "2025-04-02T02:29:42.497485",
     "exception": false,
     "start_time": "2025-04-02T02:29:42.478494",
     "status": "completed"
    },
    "tags": []
   },
   "outputs": [],
   "source": [
    "def make_prediction(text: str) -> list[float]:\n",
    "    \"\"\"Infer categories from the provided text.\"\"\"\n",
    "    #model takes embeddings as input, so calculate them first.\n",
    "    embedded = embed_fn(new_text)\n",
    "\n",
    "    #input must be batched, so here they are wrapped as a list to provide a batch of 1.\n",
    "    inp = np.array([embedded])\n",
    "\n",
    "    # And un-batched here.\n",
    "    [result] = classifier.predict(inp)\n",
    "    return result"
   ]
  },
  {
   "cell_type": "code",
   "execution_count": 21,
   "id": "e98979d0",
   "metadata": {
    "execution": {
     "iopub.execute_input": "2025-04-02T02:29:42.521728Z",
     "iopub.status.busy": "2025-04-02T02:29:42.521488Z",
     "iopub.status.idle": "2025-04-02T02:30:50.612819Z",
     "shell.execute_reply": "2025-04-02T02:30:50.611938Z"
    },
    "id": "CKTHEMrRsbcu",
    "papermill": {
     "duration": 68.116264,
     "end_time": "2025-04-02T02:30:50.625407",
     "exception": false,
     "start_time": "2025-04-02T02:29:42.509143",
     "status": "completed"
    },
    "tags": []
   },
   "outputs": [
    {
     "name": "stdout",
     "output_type": "stream",
     "text": [
      "\u001b[1m1/1\u001b[0m \u001b[32m━━━━━━━━━━━━━━━━━━━━\u001b[0m\u001b[37m\u001b[0m \u001b[1m0s\u001b[0m 141ms/step\n",
      "sci.crypt: 0.07%\n",
      "sci.electronics: 0.06%\n",
      "sci.med: 0.03%\n",
      "sci.space: 99.84%\n"
     ]
    }
   ],
   "source": [
    "# This example avoids any space-specific terminology to see if the model avoids\n",
    "# biases towards specific jargon.\n",
    "new_text = \"\"\"\n",
    "First-timer looking to get out of here.\n",
    "\n",
    "Hi, I'm writing about my interest in travelling to the outer limits!\n",
    "\n",
    "What kind of craft can I buy? What is easiest to access from this 3rd rock?\n",
    "\n",
    "Let me know how to do that please.\n",
    "\"\"\"\n",
    "\n",
    "result = make_prediction(new_text)\n",
    "\n",
    "for idx, category in enumerate(df_test[\"Class Name\"].cat.categories):\n",
    "    print(f\"{category}: {result[idx] * 100:0.2f}%\")"
   ]
  },
  {
   "cell_type": "markdown",
   "id": "83073509",
   "metadata": {
    "papermill": {
     "duration": 0.011392,
     "end_time": "2025-04-02T02:30:50.648379",
     "exception": false,
     "start_time": "2025-04-02T02:30:50.636987",
     "status": "completed"
    },
    "tags": []
   },
   "source": [
    "## Further reading\n",
    "\n",
    "To explore training custom models with Keras further, check out the [Keras guides](https://keras.io/guides/).\n",
    "\n",
    "*- [Mark McD](https://linktr.ee/markmcd)*"
   ]
  },
  {
   "cell_type": "markdown",
   "id": "5fd14d7c",
   "metadata": {
    "papermill": {
     "duration": 0.01152,
     "end_time": "2025-04-02T02:30:50.671391",
     "exception": false,
     "start_time": "2025-04-02T02:30:50.659871",
     "status": "completed"
    },
    "tags": []
   },
   "source": [
    "## Hyperparameter tuning!"
   ]
  },
  {
   "cell_type": "markdown",
   "id": "93adb60a",
   "metadata": {
    "papermill": {
     "duration": 0.0113,
     "end_time": "2025-04-02T02:30:50.694166",
     "exception": false,
     "start_time": "2025-04-02T02:30:50.682866",
     "status": "completed"
    },
    "tags": []
   },
   "source": [
    "#### Not that we needed to tune it given the 92 pct accuracy. I just wanted to make sure its nice and super **overfit**! "
   ]
  },
  {
   "cell_type": "code",
   "execution_count": 22,
   "id": "4fc2e968",
   "metadata": {
    "execution": {
     "iopub.execute_input": "2025-04-02T02:30:50.718191Z",
     "iopub.status.busy": "2025-04-02T02:30:50.717893Z",
     "iopub.status.idle": "2025-04-02T02:30:58.966582Z",
     "shell.execute_reply": "2025-04-02T02:30:58.965312Z"
    },
    "papermill": {
     "duration": 8.264013,
     "end_time": "2025-04-02T02:30:58.969574",
     "exception": false,
     "start_time": "2025-04-02T02:30:50.705561",
     "status": "completed"
    },
    "tags": []
   },
   "outputs": [
    {
     "name": "stderr",
     "output_type": "stream",
     "text": [
      "/opt/conda/lib/python3.10/pty.py:89: RuntimeWarning: os.fork() was called. os.fork() is incompatible with multithreaded code, and JAX is multithreaded, so this will likely lead to a deadlock.\n",
      "  pid, fd = os.forkpty()\n"
     ]
    }
   ],
   "source": [
    "!pip install -q keras-tuner"
   ]
  },
  {
   "cell_type": "code",
   "execution_count": 23,
   "id": "1b41b853",
   "metadata": {
    "execution": {
     "iopub.execute_input": "2025-04-02T02:30:58.997140Z",
     "iopub.status.busy": "2025-04-02T02:30:58.996781Z",
     "iopub.status.idle": "2025-04-02T02:30:59.618704Z",
     "shell.execute_reply": "2025-04-02T02:30:59.617686Z"
    },
    "papermill": {
     "duration": 0.638101,
     "end_time": "2025-04-02T02:30:59.621234",
     "exception": false,
     "start_time": "2025-04-02T02:30:58.983133",
     "status": "completed"
    },
    "tags": []
   },
   "outputs": [],
   "source": [
    "# Import Keras Tuner and visualization libraries\n",
    "from keras_tuner import RandomSearch\n",
    "import matplotlib.pyplot as plt\n",
    "import seaborn as sns"
   ]
  },
  {
   "cell_type": "markdown",
   "id": "80886f64",
   "metadata": {
    "papermill": {
     "duration": 0.013186,
     "end_time": "2025-04-02T02:30:59.648320",
     "exception": false,
     "start_time": "2025-04-02T02:30:59.635134",
     "status": "completed"
    },
    "tags": []
   },
   "source": [
    "## Hyperparameter Tuning with Keras Tuner\n",
    "\n",
    "In this section, we implement automated hyperparameter optimization to find the ideal neural network architecture for our embedding-based newsgroup classifier. Rather than manually testing different configurations, we'll use Keras Tuner's RandomSearch to systematically explore combinations of network depth, layer sizes, activation functions, dropout rates, and learning rates. This approach efficiently searches the hyperparameter space to find the optimal model configuration while saving time rather than doing it iteratively (no one likes finding params 1 layer and LR at a time). Then I added visualizations to understand how different hyperparameter choices affect model accuracy."
   ]
  },
  {
   "cell_type": "code",
   "execution_count": 24,
   "id": "74638290",
   "metadata": {
    "execution": {
     "iopub.execute_input": "2025-04-02T02:30:59.675523Z",
     "iopub.status.busy": "2025-04-02T02:30:59.674453Z",
     "iopub.status.idle": "2025-04-02T02:30:59.682406Z",
     "shell.execute_reply": "2025-04-02T02:30:59.681622Z"
    },
    "papermill": {
     "duration": 0.023569,
     "end_time": "2025-04-02T02:30:59.684300",
     "exception": false,
     "start_time": "2025-04-02T02:30:59.660731",
     "status": "completed"
    },
    "tags": []
   },
   "outputs": [],
   "source": [
    "# Define the model builder with hyperparameters to search\n",
    "def model_builder(hp):\n",
    "    model = keras.Sequential()\n",
    "    model.add(layers.Input([embedding_size], name=\"embedding_inputs\"))\n",
    "    \n",
    "    # Tune number of layers\n",
    "    num_layers = hp.Int('num_layers', 1, 4)\n",
    "    print(f\"Building model with {num_layers} layers...\")\n",
    "    \n",
    "    for i in range(num_layers):\n",
    "        units = hp.Int(f'units_{i}', min_value=32, max_value=512, step=32)\n",
    "        activation = hp.Choice(f'activation_{i}', values=['relu', 'tanh'])\n",
    "        dropout_rate = hp.Float(f'dropout_{i}', 0, 0.5, step=0.1)\n",
    "        use_bn = hp.Boolean(f'batch_norm_{i}')\n",
    "        \n",
    "        print(f\"  Layer {i+1}: {units} units, {activation} activation, {dropout_rate} dropout, BN: {use_bn}\")\n",
    "        \n",
    "        model.add(layers.Dense(units=units, activation=activation))\n",
    "        model.add(layers.Dropout(dropout_rate))\n",
    "        \n",
    "        if use_bn:\n",
    "            model.add(layers.BatchNormalization())\n",
    "    \n",
    "    model.add(layers.Dense(len(df_train[\"Class Name\"].unique()), activation='softmax'))\n",
    "    \n",
    "    # Tune learning rate\n",
    "    hp_learning_rate = hp.Choice('learning_rate', values=[1e-2, 1e-3, 1e-4])\n",
    "    print(f\"Learning rate: {hp_learning_rate}\")\n",
    "    \n",
    "    model.compile(\n",
    "        optimizer=keras.optimizers.Adam(learning_rate=hp_learning_rate),\n",
    "        loss='sparse_categorical_crossentropy',\n",
    "        metrics=['accuracy'])\n",
    "    \n",
    "    return model"
   ]
  },
  {
   "cell_type": "code",
   "execution_count": 25,
   "id": "23a6e065",
   "metadata": {
    "execution": {
     "iopub.execute_input": "2025-04-02T02:30:59.711547Z",
     "iopub.status.busy": "2025-04-02T02:30:59.711014Z",
     "iopub.status.idle": "2025-04-02T02:30:59.716038Z",
     "shell.execute_reply": "2025-04-02T02:30:59.715117Z"
    },
    "papermill": {
     "duration": 0.020373,
     "end_time": "2025-04-02T02:30:59.717741",
     "exception": false,
     "start_time": "2025-04-02T02:30:59.697368",
     "status": "completed"
    },
    "tags": []
   },
   "outputs": [],
   "source": [
    "#Print progress\n",
    "class PrintTrainingProgress(keras.callbacks.Callback):\n",
    "    def __init__(self, trial_num):\n",
    "        super().__init__()\n",
    "        self.trial_num = trial_num\n",
    "        \n",
    "    def on_epoch_end(self, epoch, logs=None):\n",
    "        print(f\"Trial {self.trial_num}, Epoch {epoch+1}: val_accuracy = {logs['val_accuracy']:.4f}, val_loss = {logs['val_loss']:.4f}\")"
   ]
  },
  {
   "cell_type": "code",
   "execution_count": 26,
   "id": "0c6042bc",
   "metadata": {
    "execution": {
     "iopub.execute_input": "2025-04-02T02:30:59.746076Z",
     "iopub.status.busy": "2025-04-02T02:30:59.745533Z",
     "iopub.status.idle": "2025-04-02T02:30:59.751473Z",
     "shell.execute_reply": "2025-04-02T02:30:59.750567Z"
    },
    "papermill": {
     "duration": 0.021666,
     "end_time": "2025-04-02T02:30:59.753165",
     "exception": false,
     "start_time": "2025-04-02T02:30:59.731499",
     "status": "completed"
    },
    "tags": []
   },
   "outputs": [],
   "source": [
    "# Create a custom tuner class to show more info\n",
    "class VerboseRandomSearch(RandomSearch):\n",
    "    def __init__(self, *args, **kwargs):\n",
    "        super().__init__(*args, **kwargs)\n",
    "        self.current_trial = 0\n",
    "        \n",
    "    def on_trial_begin(self, trial):\n",
    "        self.current_trial += 1\n",
    "        print(f\"\\n--- Starting Trial {self.current_trial} ---\")\n",
    "        super().on_trial_begin(trial)\n",
    "        \n",
    "    def on_trial_end(self, trial):\n",
    "        print(f\"--- Trial {self.current_trial} completed ---\")\n",
    "        print(f\"Score: {trial.score}\")\n",
    "        print(\"Hyperparameters:\")\n",
    "        for param, value in trial.hyperparameters.values.items():\n",
    "            print(f\"  {param}: {value}\")\n",
    "        print(\"\\n\")\n",
    "        super().on_trial_end(trial)"
   ]
  },
  {
   "cell_type": "code",
   "execution_count": 27,
   "id": "f9cc3cc6",
   "metadata": {
    "execution": {
     "iopub.execute_input": "2025-04-02T02:30:59.780561Z",
     "iopub.status.busy": "2025-04-02T02:30:59.780002Z",
     "iopub.status.idle": "2025-04-02T02:30:59.822035Z",
     "shell.execute_reply": "2025-04-02T02:30:59.821051Z"
    },
    "papermill": {
     "duration": 0.057743,
     "end_time": "2025-04-02T02:30:59.823782",
     "exception": false,
     "start_time": "2025-04-02T02:30:59.766039",
     "status": "completed"
    },
    "tags": []
   },
   "outputs": [
    {
     "name": "stdout",
     "output_type": "stream",
     "text": [
      "Initializing hyperparameter search...\n",
      "Building model with 1 layers...\n",
      "  Layer 1: 32 units, relu activation, 0.0 dropout, BN: False\n",
      "Learning rate: 0.01\n"
     ]
    }
   ],
   "source": [
    "# Set up the tuner\n",
    "print(\"Initializing hyperparameter search...\")\n",
    "tuner = VerboseRandomSearch(\n",
    "    model_builder,\n",
    "    objective='val_accuracy',\n",
    "    max_trials=10,  # Increase for more thorough search\n",
    "    executions_per_trial=2,\n",
    "    directory='tuner_dir',\n",
    "    project_name='newsgroup_classification')"
   ]
  },
  {
   "cell_type": "code",
   "execution_count": 28,
   "id": "1f068949",
   "metadata": {
    "execution": {
     "iopub.execute_input": "2025-04-02T02:30:59.852032Z",
     "iopub.status.busy": "2025-04-02T02:30:59.851707Z",
     "iopub.status.idle": "2025-04-02T02:34:00.777618Z",
     "shell.execute_reply": "2025-04-02T02:34:00.776751Z"
    },
    "papermill": {
     "duration": 180.942164,
     "end_time": "2025-04-02T02:34:00.779376",
     "exception": false,
     "start_time": "2025-04-02T02:30:59.837212",
     "status": "completed"
    },
    "tags": []
   },
   "outputs": [
    {
     "name": "stdout",
     "output_type": "stream",
     "text": [
      "Trial 10 Complete [00h 00m 18s]\n",
      "val_accuracy: 0.9150000214576721\n",
      "\n",
      "Best val_accuracy So Far: 0.9399999976158142\n",
      "Total elapsed time: 00h 03m 01s\n",
      "===== HYPERPARAMETER SEARCH COMPLETED =====\n",
      "\n"
     ]
    }
   ],
   "source": [
    "# Define callbacks for the search\n",
    "stop_early = keras.callbacks.EarlyStopping(monitor='val_loss', patience=5)\n",
    "\n",
    "# Start the search\n",
    "print(\"\\n===== STARTING HYPERPARAMETER SEARCH =====\")\n",
    "tuner.search(x_train, y_train, \n",
    "             epochs=20, \n",
    "             validation_data=(x_val, y_val),\n",
    "             callbacks=[stop_early])\n",
    "print(\"===== HYPERPARAMETER SEARCH COMPLETED =====\\n\")"
   ]
  },
  {
   "cell_type": "code",
   "execution_count": 29,
   "id": "27630275",
   "metadata": {
    "execution": {
     "iopub.execute_input": "2025-04-02T02:34:00.805521Z",
     "iopub.status.busy": "2025-04-02T02:34:00.804985Z",
     "iopub.status.idle": "2025-04-02T02:34:00.810619Z",
     "shell.execute_reply": "2025-04-02T02:34:00.809849Z"
    },
    "papermill": {
     "duration": 0.020811,
     "end_time": "2025-04-02T02:34:00.812404",
     "exception": false,
     "start_time": "2025-04-02T02:34:00.791593",
     "status": "completed"
    },
    "tags": []
   },
   "outputs": [
    {
     "name": "stdout",
     "output_type": "stream",
     "text": [
      "\n",
      "===== OPTIMAL HYPERPARAMETERS =====\n",
      "Number of layers: 1\n",
      "Learning rate: 0.001\n",
      "Layer configuration:\n",
      "  Layer 1:\n",
      "    Units: 256\n",
      "    Activation: tanh\n",
      "    Dropout rate: 0.0\n",
      "    Batch normalization: True\n",
      "===================================\n",
      "\n"
     ]
    }
   ],
   "source": [
    "# Get the best hyperparameters\n",
    "best_hps = tuner.get_best_hyperparameters(num_trials=1)[0]\n",
    "\n",
    "\n",
    "# Print the optimal hyperparameters in a nice format\n",
    "print(\"\\n===== OPTIMAL HYPERPARAMETERS =====\")\n",
    "print(f\"Number of layers: {best_hps.get('num_layers')}\")\n",
    "print(f\"Learning rate: {best_hps.get('learning_rate')}\")\n",
    "print(\"Layer configuration:\")\n",
    "for i in range(best_hps.get('num_layers')):\n",
    "    print(f\"  Layer {i+1}:\")\n",
    "    print(f\"    Units: {best_hps.get(f'units_{i}')}\")\n",
    "    print(f\"    Activation: {best_hps.get(f'activation_{i}')}\")\n",
    "    print(f\"    Dropout rate: {best_hps.get(f'dropout_{i}')}\")\n",
    "    print(f\"    Batch normalization: {best_hps.get(f'batch_norm_{i}')}\")\n",
    "print(\"===================================\\n\")"
   ]
  },
  {
   "cell_type": "markdown",
   "id": "ff9b05c9",
   "metadata": {
    "papermill": {
     "duration": 0.011413,
     "end_time": "2025-04-02T02:34:00.835630",
     "exception": false,
     "start_time": "2025-04-02T02:34:00.824217",
     "status": "completed"
    },
    "tags": []
   },
   "source": [
    "And here I thought that this could be unnecessarily complicated... can't even call 1 layer NN a deep neural network :(\n",
    "\n",
    "This is actually a good lesson in that when you're using high-quality embeddings, you maybe don't need a very complex neural network on top of them. They probably encode rich-enough semantic information about the text, so even a simple classifier can achieve good performance.\n",
    "\n",
    "There is one thing that is really cool about this though! the one layer had only 192 units over 768. I have to dig this up in my old books, but I think this a classic bottleneck creation from information theory which makes the model learn more efficiently and generalize less (which is probably we didn't need dropout or batch norm). Neat..."
   ]
  },
  {
   "cell_type": "code",
   "execution_count": 30,
   "id": "9078bae9",
   "metadata": {
    "execution": {
     "iopub.execute_input": "2025-04-02T02:34:00.860372Z",
     "iopub.status.busy": "2025-04-02T02:34:00.859854Z",
     "iopub.status.idle": "2025-04-02T02:34:04.133428Z",
     "shell.execute_reply": "2025-04-02T02:34:04.132103Z"
    },
    "papermill": {
     "duration": 3.287986,
     "end_time": "2025-04-02T02:34:04.135275",
     "exception": false,
     "start_time": "2025-04-02T02:34:00.847289",
     "status": "completed"
    },
    "tags": []
   },
   "outputs": [
    {
     "name": "stdout",
     "output_type": "stream",
     "text": [
      "Training best model with optimal hyperparameters...\n",
      "Building model with 1 layers...\n",
      "  Layer 1: 256 units, tanh activation, 0.0 dropout, BN: True\n",
      "Learning rate: 0.001\n",
      "Epoch 1/20\n",
      "\u001b[1m13/13\u001b[0m \u001b[32m━━━━━━━━━━━━━━━━━━━━\u001b[0m\u001b[37m\u001b[0m \u001b[1m2s\u001b[0m 71ms/step - accuracy: 0.6361 - loss: 0.8991 - val_accuracy: 0.7200 - val_loss: 1.2655\n",
      "Epoch 2/20\n",
      "\u001b[1m13/13\u001b[0m \u001b[32m━━━━━━━━━━━━━━━━━━━━\u001b[0m\u001b[37m\u001b[0m \u001b[1m0s\u001b[0m 3ms/step - accuracy: 0.9857 - loss: 0.0830 - val_accuracy: 0.8200 - val_loss: 1.2042\n",
      "Epoch 3/20\n",
      "\u001b[1m13/13\u001b[0m \u001b[32m━━━━━━━━━━━━━━━━━━━━\u001b[0m\u001b[37m\u001b[0m \u001b[1m0s\u001b[0m 3ms/step - accuracy: 0.9873 - loss: 0.0494 - val_accuracy: 0.8000 - val_loss: 1.1757\n",
      "Epoch 4/20\n",
      "\u001b[1m13/13\u001b[0m \u001b[32m━━━━━━━━━━━━━━━━━━━━\u001b[0m\u001b[37m\u001b[0m \u001b[1m0s\u001b[0m 3ms/step - accuracy: 1.0000 - loss: 0.0223 - val_accuracy: 0.9300 - val_loss: 1.1482\n",
      "Epoch 5/20\n",
      "\u001b[1m13/13\u001b[0m \u001b[32m━━━━━━━━━━━━━━━━━━━━\u001b[0m\u001b[37m\u001b[0m \u001b[1m0s\u001b[0m 3ms/step - accuracy: 1.0000 - loss: 0.0190 - val_accuracy: 0.9200 - val_loss: 1.1231\n",
      "Epoch 6/20\n",
      "\u001b[1m13/13\u001b[0m \u001b[32m━━━━━━━━━━━━━━━━━━━━\u001b[0m\u001b[37m\u001b[0m \u001b[1m0s\u001b[0m 3ms/step - accuracy: 0.9981 - loss: 0.0101 - val_accuracy: 0.9400 - val_loss: 1.1035\n",
      "Epoch 7/20\n",
      "\u001b[1m13/13\u001b[0m \u001b[32m━━━━━━━━━━━━━━━━━━━━\u001b[0m\u001b[37m\u001b[0m \u001b[1m0s\u001b[0m 3ms/step - accuracy: 1.0000 - loss: 0.0109 - val_accuracy: 0.9100 - val_loss: 1.0836\n",
      "Epoch 8/20\n",
      "\u001b[1m13/13\u001b[0m \u001b[32m━━━━━━━━━━━━━━━━━━━━\u001b[0m\u001b[37m\u001b[0m \u001b[1m0s\u001b[0m 3ms/step - accuracy: 1.0000 - loss: 0.0095 - val_accuracy: 0.9400 - val_loss: 1.0557\n",
      "Epoch 9/20\n",
      "\u001b[1m13/13\u001b[0m \u001b[32m━━━━━━━━━━━━━━━━━━━━\u001b[0m\u001b[37m\u001b[0m \u001b[1m0s\u001b[0m 3ms/step - accuracy: 1.0000 - loss: 0.0070 - val_accuracy: 0.9100 - val_loss: 1.0298\n",
      "Epoch 10/20\n",
      "\u001b[1m13/13\u001b[0m \u001b[32m━━━━━━━━━━━━━━━━━━━━\u001b[0m\u001b[37m\u001b[0m \u001b[1m0s\u001b[0m 3ms/step - accuracy: 1.0000 - loss: 0.0052 - val_accuracy: 0.9000 - val_loss: 1.0058\n",
      "Epoch 11/20\n",
      "\u001b[1m13/13\u001b[0m \u001b[32m━━━━━━━━━━━━━━━━━━━━\u001b[0m\u001b[37m\u001b[0m \u001b[1m0s\u001b[0m 3ms/step - accuracy: 1.0000 - loss: 0.0054 - val_accuracy: 0.9100 - val_loss: 0.9796\n",
      "Epoch 12/20\n",
      "\u001b[1m13/13\u001b[0m \u001b[32m━━━━━━━━━━━━━━━━━━━━\u001b[0m\u001b[37m\u001b[0m \u001b[1m0s\u001b[0m 3ms/step - accuracy: 1.0000 - loss: 0.0054 - val_accuracy: 0.9100 - val_loss: 0.9537\n",
      "Epoch 13/20\n",
      "\u001b[1m13/13\u001b[0m \u001b[32m━━━━━━━━━━━━━━━━━━━━\u001b[0m\u001b[37m\u001b[0m \u001b[1m0s\u001b[0m 3ms/step - accuracy: 1.0000 - loss: 0.0036 - val_accuracy: 0.9200 - val_loss: 0.9258\n",
      "Epoch 14/20\n",
      "\u001b[1m13/13\u001b[0m \u001b[32m━━━━━━━━━━━━━━━━━━━━\u001b[0m\u001b[37m\u001b[0m \u001b[1m0s\u001b[0m 3ms/step - accuracy: 1.0000 - loss: 0.0047 - val_accuracy: 0.9300 - val_loss: 0.8948\n",
      "Epoch 15/20\n",
      "\u001b[1m13/13\u001b[0m \u001b[32m━━━━━━━━━━━━━━━━━━━━\u001b[0m\u001b[37m\u001b[0m \u001b[1m0s\u001b[0m 3ms/step - accuracy: 1.0000 - loss: 0.0036 - val_accuracy: 0.9000 - val_loss: 0.8653\n",
      "Epoch 16/20\n",
      "\u001b[1m13/13\u001b[0m \u001b[32m━━━━━━━━━━━━━━━━━━━━\u001b[0m\u001b[37m\u001b[0m \u001b[1m0s\u001b[0m 3ms/step - accuracy: 1.0000 - loss: 0.0035 - val_accuracy: 0.9100 - val_loss: 0.8320\n",
      "Epoch 17/20\n",
      "\u001b[1m13/13\u001b[0m \u001b[32m━━━━━━━━━━━━━━━━━━━━\u001b[0m\u001b[37m\u001b[0m \u001b[1m0s\u001b[0m 3ms/step - accuracy: 1.0000 - loss: 0.0045 - val_accuracy: 0.9200 - val_loss: 0.7988\n",
      "Epoch 18/20\n",
      "\u001b[1m13/13\u001b[0m \u001b[32m━━━━━━━━━━━━━━━━━━━━\u001b[0m\u001b[37m\u001b[0m \u001b[1m0s\u001b[0m 4ms/step - accuracy: 1.0000 - loss: 0.0019 - val_accuracy: 0.9200 - val_loss: 0.7679\n",
      "Epoch 19/20\n",
      "\u001b[1m13/13\u001b[0m \u001b[32m━━━━━━━━━━━━━━━━━━━━\u001b[0m\u001b[37m\u001b[0m \u001b[1m0s\u001b[0m 3ms/step - accuracy: 1.0000 - loss: 0.0029 - val_accuracy: 0.9200 - val_loss: 0.7340\n",
      "Epoch 20/20\n",
      "\u001b[1m13/13\u001b[0m \u001b[32m━━━━━━━━━━━━━━━━━━━━\u001b[0m\u001b[37m\u001b[0m \u001b[1m0s\u001b[0m 4ms/step - accuracy: 1.0000 - loss: 0.0028 - val_accuracy: 0.9100 - val_loss: 0.6971\n"
     ]
    }
   ],
   "source": [
    "# Build the model with the optimal hyperparameters\n",
    "print(\"Training best model with optimal hyperparameters...\")\n",
    "best_model = tuner.hypermodel.build(best_hps)\n",
    "\n",
    "# Retrain the model and save history for visualization\n",
    "history = best_model.fit(\n",
    "    x_train, \n",
    "    y_train,\n",
    "    epochs=20,\n",
    "    validation_data=(x_val, y_val),\n",
    "    callbacks=[stop_early],\n",
    "    verbose=1\n",
    ")"
   ]
  },
  {
   "cell_type": "code",
   "execution_count": 31,
   "id": "7137bd6a",
   "metadata": {
    "execution": {
     "iopub.execute_input": "2025-04-02T02:34:04.166030Z",
     "iopub.status.busy": "2025-04-02T02:34:04.165709Z",
     "iopub.status.idle": "2025-04-02T02:34:04.324755Z",
     "shell.execute_reply": "2025-04-02T02:34:04.323879Z"
    },
    "papermill": {
     "duration": 0.175896,
     "end_time": "2025-04-02T02:34:04.326381",
     "exception": false,
     "start_time": "2025-04-02T02:34:04.150485",
     "status": "completed"
    },
    "tags": []
   },
   "outputs": [
    {
     "name": "stdout",
     "output_type": "stream",
     "text": [
      "\n",
      "===== MODEL EVALUATION =====\n",
      "\u001b[1m4/4\u001b[0m \u001b[32m━━━━━━━━━━━━━━━━━━━━\u001b[0m\u001b[37m\u001b[0m \u001b[1m0s\u001b[0m 2ms/step - accuracy: 0.9140 - loss: 0.7046 \n",
      "Best model validation loss: 0.6971\n",
      "Best model validation accuracy: 0.9100\n",
      "\n",
      "Comparing with original model:\n",
      "\u001b[1m4/4\u001b[0m \u001b[32m━━━━━━━━━━━━━━━━━━━━\u001b[0m\u001b[37m\u001b[0m \u001b[1m0s\u001b[0m 2ms/step - accuracy: 0.9069 - loss: 0.3237 \n",
      "Original model validation loss: 0.3202\n",
      "Original model validation accuracy: 0.9000\n",
      "Accuracy improvement: 1.00%\n",
      "===========================\n",
      "\n"
     ]
    }
   ],
   "source": [
    "# Evaluate the best model\n",
    "print(\"\\n===== MODEL EVALUATION =====\")\n",
    "eval_result = best_model.evaluate(x_val, y_val)\n",
    "print(f\"Best model validation loss: {eval_result[0]:.4f}\")\n",
    "print(f\"Best model validation accuracy: {eval_result[1]:.4f}\")\n",
    "\n",
    "# Compare with original model performance\n",
    "print(\"\\nComparing with original model:\")\n",
    "original_eval = classifier.evaluate(x_val, y_val)\n",
    "print(f\"Original model validation loss: {original_eval[0]:.4f}\")\n",
    "print(f\"Original model validation accuracy: {original_eval[1]:.4f}\")\n",
    "\n",
    "improvement = (eval_result[1] - original_eval[1]) * 100\n",
    "print(f\"Accuracy improvement: {improvement:.2f}%\")\n",
    "print(\"===========================\\n\")"
   ]
  },
  {
   "cell_type": "markdown",
   "id": "d6683484",
   "metadata": {
    "papermill": {
     "duration": 0.014324,
     "end_time": "2025-04-02T02:34:04.356462",
     "exception": false,
     "start_time": "2025-04-02T02:34:04.342138",
     "status": "completed"
    },
    "tags": []
   },
   "source": [
    "Bit of visualization of best parameters tuned"
   ]
  },
  {
   "cell_type": "code",
   "execution_count": 32,
   "id": "e614927c",
   "metadata": {
    "execution": {
     "iopub.execute_input": "2025-04-02T02:34:04.387322Z",
     "iopub.status.busy": "2025-04-02T02:34:04.386752Z",
     "iopub.status.idle": "2025-04-02T02:34:04.939905Z",
     "shell.execute_reply": "2025-04-02T02:34:04.938989Z"
    },
    "papermill": {
     "duration": 0.570985,
     "end_time": "2025-04-02T02:34:04.942136",
     "exception": false,
     "start_time": "2025-04-02T02:34:04.371151",
     "status": "completed"
    },
    "tags": []
   },
   "outputs": [
    {
     "data": {
      "image/png": "[encoded data removed]",
      "text/plain": [
       "<Figure size 640x480 with 2 Axes>"
      ]
     },
     "metadata": {},
     "output_type": "display_data"
    }
   ],
   "source": [
    "plt.subplot(1, 2, 1)\n",
    "plt.plot(history.history['accuracy'])\n",
    "plt.plot(history.history['val_accuracy'])\n",
    "plt.title('Model Accuracy')\n",
    "plt.ylabel('Accuracy')\n",
    "plt.xlabel('Epoch')\n",
    "plt.legend(['Train', 'Validation'], loc='lower right')\n",
    "\n",
    "# Plot training & validation loss\n",
    "plt.subplot(1, 2, 2)\n",
    "plt.plot(history.history['loss'])\n",
    "plt.plot(history.history['val_loss'])\n",
    "plt.title('Model Loss')\n",
    "plt.ylabel('Loss')\n",
    "plt.xlabel('Epoch')\n",
    "plt.legend(['Train', 'Validation'], loc='upper right')\n",
    "\n",
    "plt.tight_layout()\n",
    "plt.show()"
   ]
  },
  {
   "cell_type": "code",
   "execution_count": 33,
   "id": "2255ef4c",
   "metadata": {
    "execution": {
     "iopub.execute_input": "2025-04-02T02:34:04.975197Z",
     "iopub.status.busy": "2025-04-02T02:34:04.974519Z",
     "iopub.status.idle": "2025-04-02T02:34:05.262500Z",
     "shell.execute_reply": "2025-04-02T02:34:05.261763Z"
    },
    "papermill": {
     "duration": 0.306003,
     "end_time": "2025-04-02T02:34:05.264203",
     "exception": false,
     "start_time": "2025-04-02T02:34:04.958200",
     "status": "completed"
    },
    "tags": []
   },
   "outputs": [
    {
     "data": {
      "image/png": "[encoded data removed]",
      "text/plain": [
       "<Figure size 640x480 with 1 Axes>"
      ]
     },
     "metadata": {},
     "output_type": "display_data"
    }
   ],
   "source": [
    "# Extract trial results\n",
    "trials = tuner.oracle.trials\n",
    "trial_ids = list(trials.keys())\n",
    "accuracies = [t.score for t in trials.values() if t.score is not None]\n",
    "x_values = list(range(1, len(accuracies) + 1))\n",
    "\n",
    "# Plot the search progression\n",
    "plt.plot(x_values, accuracies, 'o-', color='blue')\n",
    "plt.grid(True, linestyle='--', alpha=0.7)\n",
    "\n",
    "# Highlight the best trial\n",
    "best_trial_idx = accuracies.index(max(accuracies))\n",
    "plt.scatter([x_values[best_trial_idx]], [accuracies[best_trial_idx]], color='red', s=100, zorder=5)\n",
    "plt.annotate(f\"Best: {accuracies[best_trial_idx]:.4f}\", \n",
    "             (x_values[best_trial_idx], accuracies[best_trial_idx]),\n",
    "             xytext=(10, -20),\n",
    "             textcoords='offset points',\n",
    "             color='red',\n",
    "             fontweight='bold')\n",
    "\n",
    "plt.tight_layout()\n",
    "plt.show()"
   ]
  }
 ],
 "metadata": {
  "colab": {
   "name": "day-2-classifying-embeddings-with-keras.ipynb",
   "toc_visible": true
  },
  "google": {
   "image_path": "/examples/train_text_classifier_embeddings_files/output_3ae76701e178_0.png",
   "keywords": [
    "examples",
    "googleai",
    "samplecode",
    "python",
    "embed"
   ]
  },
  "kaggle": {
   "accelerator": "nvidiaTeslaT4",
   "dataSources": [],
   "dockerImageVersionId": 30786,
   "isGpuEnabled": true,
   "isInternetEnabled": true,
   "language": "python",
   "sourceType": "notebook"
  },
  "kernelspec": {
   "display_name": "Python 3",
   "language": "python",
   "name": "python3"
  },
  "language_info": {
   "codemirror_mode": {
    "name": "ipython",
    "version": 3
   },
   "file_extension": ".py",
   "mimetype": "text/x-python",
   "name": "python",
   "nbconvert_exporter": "python",
   "pygments_lexer": "ipython3",
   "version": "3.10.14"
  },
  "papermill": {
   "default_parameters": {},
   "duration": 720.004266,
   "end_time": "2025-04-02T02:34:08.196995",
   "environment_variables": {},
   "exception": null,
   "input_path": "__notebook__.ipynb",
   "output_path": "__notebook__.ipynb",
   "parameters": {},
   "start_time": "2025-04-02T02:22:08.192729",
   "version": "2.6.0"
  },
  "widgets": {
   "application/vnd.jupyter.widget-state+json": {
    "state": {
     "2b4f27a7a7914b1a9eed2d2e8facddef": {
      "model_module": "@jupyter-widgets/base",
      "model_module_version": "1.2.0",
      "model_name": "LayoutModel",
      "state": {
       "_model_module": "@jupyter-widgets/base",
       "_model_module_version": "1.2.0",
       "_model_name": "LayoutModel",
       "_view_count": null,
       "_view_module": "@jupyter-widgets/base",
       "_view_module_version": "1.2.0",
       "_view_name": "LayoutView",
       "align_content": null,
       "align_items": null,
       "align_self": null,
       "border": null,
       "bottom": null,
       "display": null,
       "flex": null,
       "flex_flow": null,
       "grid_area": null,
       "grid_auto_columns": null,
       "grid_auto_flow": null,
       "grid_auto_rows": null,
       "grid_column": null,
       "grid_gap": null,
       "grid_row": null,
       "grid_template_areas": null,
       "grid_template_columns": null,
       "grid_template_rows": null,
       "height": null,
       "justify_content": null,
       "justify_items": null,
       "left": null,
       "margin": null,
       "max_height": null,
       "max_width": null,
       "min_height": null,
       "min_width": null,
       "object_fit": null,
       "object_position": null,
       "order": null,
       "overflow": null,
       "overflow_x": null,
       "overflow_y": null,
       "padding": null,
       "right": null,
       "top": null,
       "visibility": null,
       "width": null
      }
     },
     "aa6a0e0c17614386b3baef3249144b3f": {
      "model_module": "@jupyter-widgets/base",
      "model_module_version": "1.2.0",
      "model_name": "LayoutModel",
      "state": {
       "_model_module": "@jupyter-widgets/base",
       "_model_module_version": "1.2.0",
       "_model_name": "LayoutModel",
       "_view_count": null,
       "_view_module": "@jupyter-widgets/base",
       "_view_module_version": "1.2.0",
       "_view_name": "LayoutView",
       "align_content": null,
       "align_items": null,
       "align_self": null,
       "border": null,
       "bottom": null,
       "display": null,
       "flex": null,
       "flex_flow": null,
       "grid_area": null,
       "grid_auto_columns": null,
       "grid_auto_flow": null,
       "grid_auto_rows": null,
       "grid_column": null,
       "grid_gap": null,
       "grid_row": null,
       "grid_template_areas": null,
       "grid_template_columns": null,
       "grid_template_rows": null,
       "height": null,
       "justify_content": null,
       "justify_items": null,
       "left": null,
       "margin": null,
       "max_height": null,
       "max_width": null,
       "min_height": null,
       "min_width": null,
       "object_fit": null,
       "object_position": null,
       "order": null,
       "overflow": null,
       "overflow_x": null,
       "overflow_y": null,
       "padding": null,
       "right": null,
       "top": null,
       "visibility": null,
       "width": null
      }
     },
     "ceda80692f6f461181424919fad7d8a7": {
      "model_module": "@jupyter-widgets/output",
      "model_module_version": "1.0.0",
      "model_name": "OutputModel",
      "state": {
       "_dom_classes": [],
       "_model_module": "@jupyter-widgets/output",
       "_model_module_version": "1.0.0",
       "_model_name": "OutputModel",
       "_view_count": null,
       "_view_module": "@jupyter-widgets/output",
       "_view_module_version": "1.0.0",
       "_view_name": "OutputView",
       "layout": "IPY_MODEL_aa6a0e0c17614386b3baef3249144b3f",
       "msg_id": "",
       "outputs": [
        {
         "data": {
          "text/html": "<pre style=\"white-space:pre;overflow-x:auto;line-height:normal;font-family:Menlo,'DejaVu Sans Mono',consolas,'Courier New',monospace\"><span style=\"color: #800080; text-decoration-color: #800080\"> 100%</span> <span style=\"color: #729c1f; text-decoration-color: #729c1f\">━━━━━━━━━━━━━━━━━━━━━━━━━━━━━━━━━━━━━━━━━━━━━━━━━━━━━━━━━━━━━━━━━━━━━</span> <span style=\"color: #008000; text-decoration-color: #008000\">400/400 </span> [ <span style=\"color: #808000; text-decoration-color: #808000\">0:06:19</span> &lt; <span style=\"color: #008080; text-decoration-color: #008080\">0:00:00</span> , <span style=\"color: #800000; text-decoration-color: #800000\">3 it/s</span> ]\n</pre>\n",
          "text/plain": "\u001b[35m 100%\u001b[0m \u001b[38;2;114;156;31m━━━━━━━━━━━━━━━━━━━━━━━━━━━━━━━━━━━━━━━━━━━━━━━━━━━━━━━━━━━━━━━━━━━━━\u001b[0m \u001b[32m400/400 \u001b[0m [ \u001b[33m0:06:19\u001b[0m < \u001b[36m0:00:00\u001b[0m , \u001b[31m3 it/s\u001b[0m ]\n"
         },
         "metadata": {},
         "output_type": "display_data"
        }
       ]
      }
     },
     "cef26e458f084bad8c6ea4926ac30153": {
      "model_module": "@jupyter-widgets/output",
      "model_module_version": "1.0.0",
      "model_name": "OutputModel",
      "state": {
       "_dom_classes": [],
       "_model_module": "@jupyter-widgets/output",
       "_model_module_version": "1.0.0",
       "_model_name": "OutputModel",
       "_view_count": null,
       "_view_module": "@jupyter-widgets/output",
       "_view_module_version": "1.0.0",
       "_view_name": "OutputView",
       "layout": "IPY_MODEL_2b4f27a7a7914b1a9eed2d2e8facddef",
       "msg_id": "",
       "outputs": [
        {
         "data": {
          "text/html": "<pre style=\"white-space:pre;overflow-x:auto;line-height:normal;font-family:Menlo,'DejaVu Sans Mono',consolas,'Courier New',monospace\"><span style=\"color: #800080; text-decoration-color: #800080\"> 100%</span> <span style=\"color: #729c1f; text-decoration-color: #729c1f\">━━━━━━━━━━━━━━━━━━━━━━━━━━━━━━━━━━━━━━━━━━━━━━━━━━━━━━━━━━━━━━━━━━━━━</span> <span style=\"color: #008000; text-decoration-color: #008000\">100/100 </span> [ <span style=\"color: #808000; text-decoration-color: #808000\">0:00:12</span> &lt; <span style=\"color: #008080; text-decoration-color: #008080\">0:00:00</span> , <span style=\"color: #800000; text-decoration-color: #800000\">8 it/s</span> ]\n</pre>\n",
          "text/plain": "\u001b[35m 100%\u001b[0m \u001b[38;2;114;156;31m━━━━━━━━━━━━━━━━━━━━━━━━━━━━━━━━━━━━━━━━━━━━━━━━━━━━━━━━━━━━━━━━━━━━━\u001b[0m \u001b[32m100/100 \u001b[0m [ \u001b[33m0:00:12\u001b[0m < \u001b[36m0:00:00\u001b[0m , \u001b[31m8 it/s\u001b[0m ]\n"
         },
         "metadata": {},
         "output_type": "display_data"
        }
       ]
      }
     }
    },
    "version_major": 2,
    "version_minor": 0
   }
  }
 },
 "nbformat": 4,
 "nbformat_minor": 5
}
